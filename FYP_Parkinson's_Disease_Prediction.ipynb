{
  "nbformat": 4,
  "nbformat_minor": 0,
  "metadata": {
    "colab": {
      "provenance": []
    },
    "kernelspec": {
      "name": "python3",
      "display_name": "Python 3"
    },
    "language_info": {
      "name": "python"
    }
  },
  "cells": [
    {
      "cell_type": "markdown",
      "source": [
        "Importing the Libraries"
      ],
      "metadata": {
        "id": "Os03-p2pIE6R"
      }
    },
    {
      "cell_type": "code",
      "source": [
        "import numpy as np\n",
        "import pandas as pd\n",
        "from sklearn.model_selection import train_test_split\n",
        "from sklearn.preprocessing import StandardScaler\n",
        "from sklearn import svm\n",
        "from sklearn.svm import SVC\n",
        "from sklearn.metrics import f1_score, accuracy_score, precision_score, recall_score"
      ],
      "metadata": {
        "id": "ACjgHgNFILy_"
      },
      "execution_count": null,
      "outputs": []
    },
    {
      "cell_type": "markdown",
      "source": [
        "Collecting and Analysing Data"
      ],
      "metadata": {
        "id": "KSdRUfrEJzQ-"
      }
    },
    {
      "cell_type": "code",
      "source": [
        "# loading the data from csv file to pandas dataframe\n",
        "parkinsons_data = pd.read_csv('/content/parkinsons1.csv')"
      ],
      "metadata": {
        "id": "8BpW_rviIMEL"
      },
      "execution_count": null,
      "outputs": []
    },
    {
      "cell_type": "code",
      "source": [
        "# printing first 5 rows of dataframe\n",
        "parkinsons_data.head()"
      ],
      "metadata": {
        "id": "1VIa6NV-udUq",
        "outputId": "7a0ecf6e-96b5-47f4-97e8-4d2c3c15df82",
        "colab": {
          "base_uri": "https://localhost:8080/",
          "height": 299
        }
      },
      "execution_count": null,
      "outputs": [
        {
          "output_type": "execute_result",
          "data": {
            "text/plain": [
              "             name  MDVP:Fo(Hz)  MDVP:Fhi(Hz)  MDVP:Flo(Hz)  MDVP:Jitter(%)  \\\n",
              "0  phon_R01_S01_1      119.992       157.302        74.997         0.00784   \n",
              "1  phon_R01_S01_2      122.400       148.650       113.819         0.00968   \n",
              "2  phon_R01_S01_3      116.682       131.111       111.555         0.01050   \n",
              "3  phon_R01_S01_4      116.676       137.871       111.366         0.00997   \n",
              "4  phon_R01_S01_5      116.014       141.781       110.655         0.01284   \n",
              "\n",
              "   MDVP:Jitter(Abs)  MDVP:RAP  MDVP:PPQ  Jitter:DDP  MDVP:Shimmer  ...  \\\n",
              "0           0.00007   0.00370   0.00554     0.01109       0.04374  ...   \n",
              "1           0.00008   0.00465   0.00696     0.01394       0.06134  ...   \n",
              "2           0.00009   0.00544   0.00781     0.01633       0.05233  ...   \n",
              "3           0.00009   0.00502   0.00698     0.01505       0.05492  ...   \n",
              "4           0.00011   0.00655   0.00908     0.01966       0.06425  ...   \n",
              "\n",
              "   Shimmer:DDA      NHR     HNR  status      RPDE       DFA   spread1  \\\n",
              "0      0.06545  0.02211  21.033       1  0.414783  0.815285 -4.813031   \n",
              "1      0.09403  0.01929  19.085       1  0.458359  0.819521 -4.075192   \n",
              "2      0.08270  0.01309  20.651       1  0.429895  0.825288 -4.443179   \n",
              "3      0.08771  0.01353  20.644       1  0.434969  0.819235 -4.117501   \n",
              "4      0.10470  0.01767  19.649       1  0.417356  0.823484 -3.747787   \n",
              "\n",
              "    spread2        D2       PPE  \n",
              "0  0.266482  2.301442  0.284654  \n",
              "1  0.335590  2.486855  0.368674  \n",
              "2  0.311173  2.342259  0.332634  \n",
              "3  0.334147  2.405554  0.368975  \n",
              "4  0.234513  2.332180  0.410335  \n",
              "\n",
              "[5 rows x 24 columns]"
            ],
            "text/html": [
              "\n",
              "  <div id=\"df-e6090a06-c3a5-4248-a8d7-963353f3266a\">\n",
              "    <div class=\"colab-df-container\">\n",
              "      <div>\n",
              "<style scoped>\n",
              "    .dataframe tbody tr th:only-of-type {\n",
              "        vertical-align: middle;\n",
              "    }\n",
              "\n",
              "    .dataframe tbody tr th {\n",
              "        vertical-align: top;\n",
              "    }\n",
              "\n",
              "    .dataframe thead th {\n",
              "        text-align: right;\n",
              "    }\n",
              "</style>\n",
              "<table border=\"1\" class=\"dataframe\">\n",
              "  <thead>\n",
              "    <tr style=\"text-align: right;\">\n",
              "      <th></th>\n",
              "      <th>name</th>\n",
              "      <th>MDVP:Fo(Hz)</th>\n",
              "      <th>MDVP:Fhi(Hz)</th>\n",
              "      <th>MDVP:Flo(Hz)</th>\n",
              "      <th>MDVP:Jitter(%)</th>\n",
              "      <th>MDVP:Jitter(Abs)</th>\n",
              "      <th>MDVP:RAP</th>\n",
              "      <th>MDVP:PPQ</th>\n",
              "      <th>Jitter:DDP</th>\n",
              "      <th>MDVP:Shimmer</th>\n",
              "      <th>...</th>\n",
              "      <th>Shimmer:DDA</th>\n",
              "      <th>NHR</th>\n",
              "      <th>HNR</th>\n",
              "      <th>status</th>\n",
              "      <th>RPDE</th>\n",
              "      <th>DFA</th>\n",
              "      <th>spread1</th>\n",
              "      <th>spread2</th>\n",
              "      <th>D2</th>\n",
              "      <th>PPE</th>\n",
              "    </tr>\n",
              "  </thead>\n",
              "  <tbody>\n",
              "    <tr>\n",
              "      <th>0</th>\n",
              "      <td>phon_R01_S01_1</td>\n",
              "      <td>119.992</td>\n",
              "      <td>157.302</td>\n",
              "      <td>74.997</td>\n",
              "      <td>0.00784</td>\n",
              "      <td>0.00007</td>\n",
              "      <td>0.00370</td>\n",
              "      <td>0.00554</td>\n",
              "      <td>0.01109</td>\n",
              "      <td>0.04374</td>\n",
              "      <td>...</td>\n",
              "      <td>0.06545</td>\n",
              "      <td>0.02211</td>\n",
              "      <td>21.033</td>\n",
              "      <td>1</td>\n",
              "      <td>0.414783</td>\n",
              "      <td>0.815285</td>\n",
              "      <td>-4.813031</td>\n",
              "      <td>0.266482</td>\n",
              "      <td>2.301442</td>\n",
              "      <td>0.284654</td>\n",
              "    </tr>\n",
              "    <tr>\n",
              "      <th>1</th>\n",
              "      <td>phon_R01_S01_2</td>\n",
              "      <td>122.400</td>\n",
              "      <td>148.650</td>\n",
              "      <td>113.819</td>\n",
              "      <td>0.00968</td>\n",
              "      <td>0.00008</td>\n",
              "      <td>0.00465</td>\n",
              "      <td>0.00696</td>\n",
              "      <td>0.01394</td>\n",
              "      <td>0.06134</td>\n",
              "      <td>...</td>\n",
              "      <td>0.09403</td>\n",
              "      <td>0.01929</td>\n",
              "      <td>19.085</td>\n",
              "      <td>1</td>\n",
              "      <td>0.458359</td>\n",
              "      <td>0.819521</td>\n",
              "      <td>-4.075192</td>\n",
              "      <td>0.335590</td>\n",
              "      <td>2.486855</td>\n",
              "      <td>0.368674</td>\n",
              "    </tr>\n",
              "    <tr>\n",
              "      <th>2</th>\n",
              "      <td>phon_R01_S01_3</td>\n",
              "      <td>116.682</td>\n",
              "      <td>131.111</td>\n",
              "      <td>111.555</td>\n",
              "      <td>0.01050</td>\n",
              "      <td>0.00009</td>\n",
              "      <td>0.00544</td>\n",
              "      <td>0.00781</td>\n",
              "      <td>0.01633</td>\n",
              "      <td>0.05233</td>\n",
              "      <td>...</td>\n",
              "      <td>0.08270</td>\n",
              "      <td>0.01309</td>\n",
              "      <td>20.651</td>\n",
              "      <td>1</td>\n",
              "      <td>0.429895</td>\n",
              "      <td>0.825288</td>\n",
              "      <td>-4.443179</td>\n",
              "      <td>0.311173</td>\n",
              "      <td>2.342259</td>\n",
              "      <td>0.332634</td>\n",
              "    </tr>\n",
              "    <tr>\n",
              "      <th>3</th>\n",
              "      <td>phon_R01_S01_4</td>\n",
              "      <td>116.676</td>\n",
              "      <td>137.871</td>\n",
              "      <td>111.366</td>\n",
              "      <td>0.00997</td>\n",
              "      <td>0.00009</td>\n",
              "      <td>0.00502</td>\n",
              "      <td>0.00698</td>\n",
              "      <td>0.01505</td>\n",
              "      <td>0.05492</td>\n",
              "      <td>...</td>\n",
              "      <td>0.08771</td>\n",
              "      <td>0.01353</td>\n",
              "      <td>20.644</td>\n",
              "      <td>1</td>\n",
              "      <td>0.434969</td>\n",
              "      <td>0.819235</td>\n",
              "      <td>-4.117501</td>\n",
              "      <td>0.334147</td>\n",
              "      <td>2.405554</td>\n",
              "      <td>0.368975</td>\n",
              "    </tr>\n",
              "    <tr>\n",
              "      <th>4</th>\n",
              "      <td>phon_R01_S01_5</td>\n",
              "      <td>116.014</td>\n",
              "      <td>141.781</td>\n",
              "      <td>110.655</td>\n",
              "      <td>0.01284</td>\n",
              "      <td>0.00011</td>\n",
              "      <td>0.00655</td>\n",
              "      <td>0.00908</td>\n",
              "      <td>0.01966</td>\n",
              "      <td>0.06425</td>\n",
              "      <td>...</td>\n",
              "      <td>0.10470</td>\n",
              "      <td>0.01767</td>\n",
              "      <td>19.649</td>\n",
              "      <td>1</td>\n",
              "      <td>0.417356</td>\n",
              "      <td>0.823484</td>\n",
              "      <td>-3.747787</td>\n",
              "      <td>0.234513</td>\n",
              "      <td>2.332180</td>\n",
              "      <td>0.410335</td>\n",
              "    </tr>\n",
              "  </tbody>\n",
              "</table>\n",
              "<p>5 rows × 24 columns</p>\n",
              "</div>\n",
              "      <button class=\"colab-df-convert\" onclick=\"convertToInteractive('df-e6090a06-c3a5-4248-a8d7-963353f3266a')\"\n",
              "              title=\"Convert this dataframe to an interactive table.\"\n",
              "              style=\"display:none;\">\n",
              "        \n",
              "  <svg xmlns=\"http://www.w3.org/2000/svg\" height=\"24px\"viewBox=\"0 0 24 24\"\n",
              "       width=\"24px\">\n",
              "    <path d=\"M0 0h24v24H0V0z\" fill=\"none\"/>\n",
              "    <path d=\"M18.56 5.44l.94 2.06.94-2.06 2.06-.94-2.06-.94-.94-2.06-.94 2.06-2.06.94zm-11 1L8.5 8.5l.94-2.06 2.06-.94-2.06-.94L8.5 2.5l-.94 2.06-2.06.94zm10 10l.94 2.06.94-2.06 2.06-.94-2.06-.94-.94-2.06-.94 2.06-2.06.94z\"/><path d=\"M17.41 7.96l-1.37-1.37c-.4-.4-.92-.59-1.43-.59-.52 0-1.04.2-1.43.59L10.3 9.45l-7.72 7.72c-.78.78-.78 2.05 0 2.83L4 21.41c.39.39.9.59 1.41.59.51 0 1.02-.2 1.41-.59l7.78-7.78 2.81-2.81c.8-.78.8-2.07 0-2.86zM5.41 20L4 18.59l7.72-7.72 1.47 1.35L5.41 20z\"/>\n",
              "  </svg>\n",
              "      </button>\n",
              "      \n",
              "  <style>\n",
              "    .colab-df-container {\n",
              "      display:flex;\n",
              "      flex-wrap:wrap;\n",
              "      gap: 12px;\n",
              "    }\n",
              "\n",
              "    .colab-df-convert {\n",
              "      background-color: #E8F0FE;\n",
              "      border: none;\n",
              "      border-radius: 50%;\n",
              "      cursor: pointer;\n",
              "      display: none;\n",
              "      fill: #1967D2;\n",
              "      height: 32px;\n",
              "      padding: 0 0 0 0;\n",
              "      width: 32px;\n",
              "    }\n",
              "\n",
              "    .colab-df-convert:hover {\n",
              "      background-color: #E2EBFA;\n",
              "      box-shadow: 0px 1px 2px rgba(60, 64, 67, 0.3), 0px 1px 3px 1px rgba(60, 64, 67, 0.15);\n",
              "      fill: #174EA6;\n",
              "    }\n",
              "\n",
              "    [theme=dark] .colab-df-convert {\n",
              "      background-color: #3B4455;\n",
              "      fill: #D2E3FC;\n",
              "    }\n",
              "\n",
              "    [theme=dark] .colab-df-convert:hover {\n",
              "      background-color: #434B5C;\n",
              "      box-shadow: 0px 1px 3px 1px rgba(0, 0, 0, 0.15);\n",
              "      filter: drop-shadow(0px 1px 2px rgba(0, 0, 0, 0.3));\n",
              "      fill: #FFFFFF;\n",
              "    }\n",
              "  </style>\n",
              "\n",
              "      <script>\n",
              "        const buttonEl =\n",
              "          document.querySelector('#df-e6090a06-c3a5-4248-a8d7-963353f3266a button.colab-df-convert');\n",
              "        buttonEl.style.display =\n",
              "          google.colab.kernel.accessAllowed ? 'block' : 'none';\n",
              "\n",
              "        async function convertToInteractive(key) {\n",
              "          const element = document.querySelector('#df-e6090a06-c3a5-4248-a8d7-963353f3266a');\n",
              "          const dataTable =\n",
              "            await google.colab.kernel.invokeFunction('convertToInteractive',\n",
              "                                                     [key], {});\n",
              "          if (!dataTable) return;\n",
              "\n",
              "          const docLinkHtml = 'Like what you see? Visit the ' +\n",
              "            '<a target=\"_blank\" href=https://colab.research.google.com/notebooks/data_table.ipynb>data table notebook</a>'\n",
              "            + ' to learn more about interactive tables.';\n",
              "          element.innerHTML = '';\n",
              "          dataTable['output_type'] = 'display_data';\n",
              "          await google.colab.output.renderOutput(dataTable, element);\n",
              "          const docLink = document.createElement('div');\n",
              "          docLink.innerHTML = docLinkHtml;\n",
              "          element.appendChild(docLink);\n",
              "        }\n",
              "      </script>\n",
              "    </div>\n",
              "  </div>\n",
              "  "
            ]
          },
          "metadata": {},
          "execution_count": 4
        }
      ]
    },
    {
      "cell_type": "code",
      "source": [
        "# number of rows and columns in dataframe\n",
        "parkinsons_data.shape"
      ],
      "metadata": {
        "id": "GMSZxhnRvGYt",
        "outputId": "abbf045b-d08a-45ce-cd22-16324cc3fdb3",
        "colab": {
          "base_uri": "https://localhost:8080/"
        }
      },
      "execution_count": null,
      "outputs": [
        {
          "output_type": "execute_result",
          "data": {
            "text/plain": [
              "(195, 24)"
            ]
          },
          "metadata": {},
          "execution_count": 5
        }
      ]
    },
    {
      "cell_type": "code",
      "source": [
        "# getting more information about dataset\n",
        "parkinsons_data.info()"
      ],
      "metadata": {
        "id": "9V2z5_8YvGId",
        "outputId": "463972d5-64a7-445b-fe6f-5ce49e10382d",
        "colab": {
          "base_uri": "https://localhost:8080/"
        }
      },
      "execution_count": null,
      "outputs": [
        {
          "output_type": "stream",
          "name": "stdout",
          "text": [
            "<class 'pandas.core.frame.DataFrame'>\n",
            "RangeIndex: 195 entries, 0 to 194\n",
            "Data columns (total 24 columns):\n",
            " #   Column            Non-Null Count  Dtype  \n",
            "---  ------            --------------  -----  \n",
            " 0   name              195 non-null    object \n",
            " 1   MDVP:Fo(Hz)       195 non-null    float64\n",
            " 2   MDVP:Fhi(Hz)      195 non-null    float64\n",
            " 3   MDVP:Flo(Hz)      195 non-null    float64\n",
            " 4   MDVP:Jitter(%)    195 non-null    float64\n",
            " 5   MDVP:Jitter(Abs)  195 non-null    float64\n",
            " 6   MDVP:RAP          195 non-null    float64\n",
            " 7   MDVP:PPQ          195 non-null    float64\n",
            " 8   Jitter:DDP        195 non-null    float64\n",
            " 9   MDVP:Shimmer      195 non-null    float64\n",
            " 10  MDVP:Shimmer(dB)  195 non-null    float64\n",
            " 11  Shimmer:APQ3      195 non-null    float64\n",
            " 12  Shimmer:APQ5      195 non-null    float64\n",
            " 13  MDVP:APQ          195 non-null    float64\n",
            " 14  Shimmer:DDA       195 non-null    float64\n",
            " 15  NHR               195 non-null    float64\n",
            " 16  HNR               195 non-null    float64\n",
            " 17  status            195 non-null    int64  \n",
            " 18  RPDE              195 non-null    float64\n",
            " 19  DFA               195 non-null    float64\n",
            " 20  spread1           195 non-null    float64\n",
            " 21  spread2           195 non-null    float64\n",
            " 22  D2                195 non-null    float64\n",
            " 23  PPE               195 non-null    float64\n",
            "dtypes: float64(22), int64(1), object(1)\n",
            "memory usage: 36.7+ KB\n"
          ]
        }
      ]
    },
    {
      "cell_type": "code",
      "source": [
        "# checking for missing values in each column\n",
        "parkinsons_data.isnull().sum()"
      ],
      "metadata": {
        "id": "K_TnQsb5vF-V",
        "outputId": "808ee329-fed4-4dd5-be98-b983322e14cf",
        "colab": {
          "base_uri": "https://localhost:8080/"
        }
      },
      "execution_count": null,
      "outputs": [
        {
          "output_type": "execute_result",
          "data": {
            "text/plain": [
              "name                0\n",
              "MDVP:Fo(Hz)         0\n",
              "MDVP:Fhi(Hz)        0\n",
              "MDVP:Flo(Hz)        0\n",
              "MDVP:Jitter(%)      0\n",
              "MDVP:Jitter(Abs)    0\n",
              "MDVP:RAP            0\n",
              "MDVP:PPQ            0\n",
              "Jitter:DDP          0\n",
              "MDVP:Shimmer        0\n",
              "MDVP:Shimmer(dB)    0\n",
              "Shimmer:APQ3        0\n",
              "Shimmer:APQ5        0\n",
              "MDVP:APQ            0\n",
              "Shimmer:DDA         0\n",
              "NHR                 0\n",
              "HNR                 0\n",
              "status              0\n",
              "RPDE                0\n",
              "DFA                 0\n",
              "spread1             0\n",
              "spread2             0\n",
              "D2                  0\n",
              "PPE                 0\n",
              "dtype: int64"
            ]
          },
          "metadata": {},
          "execution_count": 7
        }
      ]
    },
    {
      "cell_type": "code",
      "source": [
        "# getting some statistical measures about data\n",
        "parkinsons_data.describe()"
      ],
      "metadata": {
        "id": "P8wxRcYJq3Sl",
        "outputId": "57ad0ed7-591e-4494-c37e-68eaec36c014",
        "colab": {
          "base_uri": "https://localhost:8080/",
          "height": 393
        }
      },
      "execution_count": null,
      "outputs": [
        {
          "output_type": "execute_result",
          "data": {
            "text/plain": [
              "       MDVP:Fo(Hz)  MDVP:Fhi(Hz)  MDVP:Flo(Hz)  MDVP:Jitter(%)  \\\n",
              "count   195.000000    195.000000    195.000000      195.000000   \n",
              "mean    154.228641    197.104918    116.324631        0.006220   \n",
              "std      41.390065     91.491548     43.521413        0.004848   \n",
              "min      88.333000    102.145000     65.476000        0.001680   \n",
              "25%     117.572000    134.862500     84.291000        0.003460   \n",
              "50%     148.790000    175.829000    104.315000        0.004940   \n",
              "75%     182.769000    224.205500    140.018500        0.007365   \n",
              "max     260.105000    592.030000    239.170000        0.033160   \n",
              "\n",
              "       MDVP:Jitter(Abs)    MDVP:RAP    MDVP:PPQ  Jitter:DDP  MDVP:Shimmer  \\\n",
              "count        195.000000  195.000000  195.000000  195.000000    195.000000   \n",
              "mean           0.000044    0.003306    0.003446    0.009920      0.029709   \n",
              "std            0.000035    0.002968    0.002759    0.008903      0.018857   \n",
              "min            0.000007    0.000680    0.000920    0.002040      0.009540   \n",
              "25%            0.000020    0.001660    0.001860    0.004985      0.016505   \n",
              "50%            0.000030    0.002500    0.002690    0.007490      0.022970   \n",
              "75%            0.000060    0.003835    0.003955    0.011505      0.037885   \n",
              "max            0.000260    0.021440    0.019580    0.064330      0.119080   \n",
              "\n",
              "       MDVP:Shimmer(dB)  ...  Shimmer:DDA         NHR         HNR      status  \\\n",
              "count        195.000000  ...   195.000000  195.000000  195.000000  195.000000   \n",
              "mean           0.282251  ...     0.046993    0.024847   21.885974    0.753846   \n",
              "std            0.194877  ...     0.030459    0.040418    4.425764    0.431878   \n",
              "min            0.085000  ...     0.013640    0.000650    8.441000    0.000000   \n",
              "25%            0.148500  ...     0.024735    0.005925   19.198000    1.000000   \n",
              "50%            0.221000  ...     0.038360    0.011660   22.085000    1.000000   \n",
              "75%            0.350000  ...     0.060795    0.025640   25.075500    1.000000   \n",
              "max            1.302000  ...     0.169420    0.314820   33.047000    1.000000   \n",
              "\n",
              "             RPDE         DFA     spread1     spread2          D2         PPE  \n",
              "count  195.000000  195.000000  195.000000  195.000000  195.000000  195.000000  \n",
              "mean     0.498536    0.718099   -5.684397    0.226510    2.381826    0.206552  \n",
              "std      0.103942    0.055336    1.090208    0.083406    0.382799    0.090119  \n",
              "min      0.256570    0.574282   -7.964984    0.006274    1.423287    0.044539  \n",
              "25%      0.421306    0.674758   -6.450096    0.174351    2.099125    0.137451  \n",
              "50%      0.495954    0.722254   -5.720868    0.218885    2.361532    0.194052  \n",
              "75%      0.587562    0.761881   -5.046192    0.279234    2.636456    0.252980  \n",
              "max      0.685151    0.825288   -2.434031    0.450493    3.671155    0.527367  \n",
              "\n",
              "[8 rows x 23 columns]"
            ],
            "text/html": [
              "\n",
              "  <div id=\"df-7d3877cd-fb5f-4da7-9361-2291ad0c7748\">\n",
              "    <div class=\"colab-df-container\">\n",
              "      <div>\n",
              "<style scoped>\n",
              "    .dataframe tbody tr th:only-of-type {\n",
              "        vertical-align: middle;\n",
              "    }\n",
              "\n",
              "    .dataframe tbody tr th {\n",
              "        vertical-align: top;\n",
              "    }\n",
              "\n",
              "    .dataframe thead th {\n",
              "        text-align: right;\n",
              "    }\n",
              "</style>\n",
              "<table border=\"1\" class=\"dataframe\">\n",
              "  <thead>\n",
              "    <tr style=\"text-align: right;\">\n",
              "      <th></th>\n",
              "      <th>MDVP:Fo(Hz)</th>\n",
              "      <th>MDVP:Fhi(Hz)</th>\n",
              "      <th>MDVP:Flo(Hz)</th>\n",
              "      <th>MDVP:Jitter(%)</th>\n",
              "      <th>MDVP:Jitter(Abs)</th>\n",
              "      <th>MDVP:RAP</th>\n",
              "      <th>MDVP:PPQ</th>\n",
              "      <th>Jitter:DDP</th>\n",
              "      <th>MDVP:Shimmer</th>\n",
              "      <th>MDVP:Shimmer(dB)</th>\n",
              "      <th>...</th>\n",
              "      <th>Shimmer:DDA</th>\n",
              "      <th>NHR</th>\n",
              "      <th>HNR</th>\n",
              "      <th>status</th>\n",
              "      <th>RPDE</th>\n",
              "      <th>DFA</th>\n",
              "      <th>spread1</th>\n",
              "      <th>spread2</th>\n",
              "      <th>D2</th>\n",
              "      <th>PPE</th>\n",
              "    </tr>\n",
              "  </thead>\n",
              "  <tbody>\n",
              "    <tr>\n",
              "      <th>count</th>\n",
              "      <td>195.000000</td>\n",
              "      <td>195.000000</td>\n",
              "      <td>195.000000</td>\n",
              "      <td>195.000000</td>\n",
              "      <td>195.000000</td>\n",
              "      <td>195.000000</td>\n",
              "      <td>195.000000</td>\n",
              "      <td>195.000000</td>\n",
              "      <td>195.000000</td>\n",
              "      <td>195.000000</td>\n",
              "      <td>...</td>\n",
              "      <td>195.000000</td>\n",
              "      <td>195.000000</td>\n",
              "      <td>195.000000</td>\n",
              "      <td>195.000000</td>\n",
              "      <td>195.000000</td>\n",
              "      <td>195.000000</td>\n",
              "      <td>195.000000</td>\n",
              "      <td>195.000000</td>\n",
              "      <td>195.000000</td>\n",
              "      <td>195.000000</td>\n",
              "    </tr>\n",
              "    <tr>\n",
              "      <th>mean</th>\n",
              "      <td>154.228641</td>\n",
              "      <td>197.104918</td>\n",
              "      <td>116.324631</td>\n",
              "      <td>0.006220</td>\n",
              "      <td>0.000044</td>\n",
              "      <td>0.003306</td>\n",
              "      <td>0.003446</td>\n",
              "      <td>0.009920</td>\n",
              "      <td>0.029709</td>\n",
              "      <td>0.282251</td>\n",
              "      <td>...</td>\n",
              "      <td>0.046993</td>\n",
              "      <td>0.024847</td>\n",
              "      <td>21.885974</td>\n",
              "      <td>0.753846</td>\n",
              "      <td>0.498536</td>\n",
              "      <td>0.718099</td>\n",
              "      <td>-5.684397</td>\n",
              "      <td>0.226510</td>\n",
              "      <td>2.381826</td>\n",
              "      <td>0.206552</td>\n",
              "    </tr>\n",
              "    <tr>\n",
              "      <th>std</th>\n",
              "      <td>41.390065</td>\n",
              "      <td>91.491548</td>\n",
              "      <td>43.521413</td>\n",
              "      <td>0.004848</td>\n",
              "      <td>0.000035</td>\n",
              "      <td>0.002968</td>\n",
              "      <td>0.002759</td>\n",
              "      <td>0.008903</td>\n",
              "      <td>0.018857</td>\n",
              "      <td>0.194877</td>\n",
              "      <td>...</td>\n",
              "      <td>0.030459</td>\n",
              "      <td>0.040418</td>\n",
              "      <td>4.425764</td>\n",
              "      <td>0.431878</td>\n",
              "      <td>0.103942</td>\n",
              "      <td>0.055336</td>\n",
              "      <td>1.090208</td>\n",
              "      <td>0.083406</td>\n",
              "      <td>0.382799</td>\n",
              "      <td>0.090119</td>\n",
              "    </tr>\n",
              "    <tr>\n",
              "      <th>min</th>\n",
              "      <td>88.333000</td>\n",
              "      <td>102.145000</td>\n",
              "      <td>65.476000</td>\n",
              "      <td>0.001680</td>\n",
              "      <td>0.000007</td>\n",
              "      <td>0.000680</td>\n",
              "      <td>0.000920</td>\n",
              "      <td>0.002040</td>\n",
              "      <td>0.009540</td>\n",
              "      <td>0.085000</td>\n",
              "      <td>...</td>\n",
              "      <td>0.013640</td>\n",
              "      <td>0.000650</td>\n",
              "      <td>8.441000</td>\n",
              "      <td>0.000000</td>\n",
              "      <td>0.256570</td>\n",
              "      <td>0.574282</td>\n",
              "      <td>-7.964984</td>\n",
              "      <td>0.006274</td>\n",
              "      <td>1.423287</td>\n",
              "      <td>0.044539</td>\n",
              "    </tr>\n",
              "    <tr>\n",
              "      <th>25%</th>\n",
              "      <td>117.572000</td>\n",
              "      <td>134.862500</td>\n",
              "      <td>84.291000</td>\n",
              "      <td>0.003460</td>\n",
              "      <td>0.000020</td>\n",
              "      <td>0.001660</td>\n",
              "      <td>0.001860</td>\n",
              "      <td>0.004985</td>\n",
              "      <td>0.016505</td>\n",
              "      <td>0.148500</td>\n",
              "      <td>...</td>\n",
              "      <td>0.024735</td>\n",
              "      <td>0.005925</td>\n",
              "      <td>19.198000</td>\n",
              "      <td>1.000000</td>\n",
              "      <td>0.421306</td>\n",
              "      <td>0.674758</td>\n",
              "      <td>-6.450096</td>\n",
              "      <td>0.174351</td>\n",
              "      <td>2.099125</td>\n",
              "      <td>0.137451</td>\n",
              "    </tr>\n",
              "    <tr>\n",
              "      <th>50%</th>\n",
              "      <td>148.790000</td>\n",
              "      <td>175.829000</td>\n",
              "      <td>104.315000</td>\n",
              "      <td>0.004940</td>\n",
              "      <td>0.000030</td>\n",
              "      <td>0.002500</td>\n",
              "      <td>0.002690</td>\n",
              "      <td>0.007490</td>\n",
              "      <td>0.022970</td>\n",
              "      <td>0.221000</td>\n",
              "      <td>...</td>\n",
              "      <td>0.038360</td>\n",
              "      <td>0.011660</td>\n",
              "      <td>22.085000</td>\n",
              "      <td>1.000000</td>\n",
              "      <td>0.495954</td>\n",
              "      <td>0.722254</td>\n",
              "      <td>-5.720868</td>\n",
              "      <td>0.218885</td>\n",
              "      <td>2.361532</td>\n",
              "      <td>0.194052</td>\n",
              "    </tr>\n",
              "    <tr>\n",
              "      <th>75%</th>\n",
              "      <td>182.769000</td>\n",
              "      <td>224.205500</td>\n",
              "      <td>140.018500</td>\n",
              "      <td>0.007365</td>\n",
              "      <td>0.000060</td>\n",
              "      <td>0.003835</td>\n",
              "      <td>0.003955</td>\n",
              "      <td>0.011505</td>\n",
              "      <td>0.037885</td>\n",
              "      <td>0.350000</td>\n",
              "      <td>...</td>\n",
              "      <td>0.060795</td>\n",
              "      <td>0.025640</td>\n",
              "      <td>25.075500</td>\n",
              "      <td>1.000000</td>\n",
              "      <td>0.587562</td>\n",
              "      <td>0.761881</td>\n",
              "      <td>-5.046192</td>\n",
              "      <td>0.279234</td>\n",
              "      <td>2.636456</td>\n",
              "      <td>0.252980</td>\n",
              "    </tr>\n",
              "    <tr>\n",
              "      <th>max</th>\n",
              "      <td>260.105000</td>\n",
              "      <td>592.030000</td>\n",
              "      <td>239.170000</td>\n",
              "      <td>0.033160</td>\n",
              "      <td>0.000260</td>\n",
              "      <td>0.021440</td>\n",
              "      <td>0.019580</td>\n",
              "      <td>0.064330</td>\n",
              "      <td>0.119080</td>\n",
              "      <td>1.302000</td>\n",
              "      <td>...</td>\n",
              "      <td>0.169420</td>\n",
              "      <td>0.314820</td>\n",
              "      <td>33.047000</td>\n",
              "      <td>1.000000</td>\n",
              "      <td>0.685151</td>\n",
              "      <td>0.825288</td>\n",
              "      <td>-2.434031</td>\n",
              "      <td>0.450493</td>\n",
              "      <td>3.671155</td>\n",
              "      <td>0.527367</td>\n",
              "    </tr>\n",
              "  </tbody>\n",
              "</table>\n",
              "<p>8 rows × 23 columns</p>\n",
              "</div>\n",
              "      <button class=\"colab-df-convert\" onclick=\"convertToInteractive('df-7d3877cd-fb5f-4da7-9361-2291ad0c7748')\"\n",
              "              title=\"Convert this dataframe to an interactive table.\"\n",
              "              style=\"display:none;\">\n",
              "        \n",
              "  <svg xmlns=\"http://www.w3.org/2000/svg\" height=\"24px\"viewBox=\"0 0 24 24\"\n",
              "       width=\"24px\">\n",
              "    <path d=\"M0 0h24v24H0V0z\" fill=\"none\"/>\n",
              "    <path d=\"M18.56 5.44l.94 2.06.94-2.06 2.06-.94-2.06-.94-.94-2.06-.94 2.06-2.06.94zm-11 1L8.5 8.5l.94-2.06 2.06-.94-2.06-.94L8.5 2.5l-.94 2.06-2.06.94zm10 10l.94 2.06.94-2.06 2.06-.94-2.06-.94-.94-2.06-.94 2.06-2.06.94z\"/><path d=\"M17.41 7.96l-1.37-1.37c-.4-.4-.92-.59-1.43-.59-.52 0-1.04.2-1.43.59L10.3 9.45l-7.72 7.72c-.78.78-.78 2.05 0 2.83L4 21.41c.39.39.9.59 1.41.59.51 0 1.02-.2 1.41-.59l7.78-7.78 2.81-2.81c.8-.78.8-2.07 0-2.86zM5.41 20L4 18.59l7.72-7.72 1.47 1.35L5.41 20z\"/>\n",
              "  </svg>\n",
              "      </button>\n",
              "      \n",
              "  <style>\n",
              "    .colab-df-container {\n",
              "      display:flex;\n",
              "      flex-wrap:wrap;\n",
              "      gap: 12px;\n",
              "    }\n",
              "\n",
              "    .colab-df-convert {\n",
              "      background-color: #E8F0FE;\n",
              "      border: none;\n",
              "      border-radius: 50%;\n",
              "      cursor: pointer;\n",
              "      display: none;\n",
              "      fill: #1967D2;\n",
              "      height: 32px;\n",
              "      padding: 0 0 0 0;\n",
              "      width: 32px;\n",
              "    }\n",
              "\n",
              "    .colab-df-convert:hover {\n",
              "      background-color: #E2EBFA;\n",
              "      box-shadow: 0px 1px 2px rgba(60, 64, 67, 0.3), 0px 1px 3px 1px rgba(60, 64, 67, 0.15);\n",
              "      fill: #174EA6;\n",
              "    }\n",
              "\n",
              "    [theme=dark] .colab-df-convert {\n",
              "      background-color: #3B4455;\n",
              "      fill: #D2E3FC;\n",
              "    }\n",
              "\n",
              "    [theme=dark] .colab-df-convert:hover {\n",
              "      background-color: #434B5C;\n",
              "      box-shadow: 0px 1px 3px 1px rgba(0, 0, 0, 0.15);\n",
              "      filter: drop-shadow(0px 1px 2px rgba(0, 0, 0, 0.3));\n",
              "      fill: #FFFFFF;\n",
              "    }\n",
              "  </style>\n",
              "\n",
              "      <script>\n",
              "        const buttonEl =\n",
              "          document.querySelector('#df-7d3877cd-fb5f-4da7-9361-2291ad0c7748 button.colab-df-convert');\n",
              "        buttonEl.style.display =\n",
              "          google.colab.kernel.accessAllowed ? 'block' : 'none';\n",
              "\n",
              "        async function convertToInteractive(key) {\n",
              "          const element = document.querySelector('#df-7d3877cd-fb5f-4da7-9361-2291ad0c7748');\n",
              "          const dataTable =\n",
              "            await google.colab.kernel.invokeFunction('convertToInteractive',\n",
              "                                                     [key], {});\n",
              "          if (!dataTable) return;\n",
              "\n",
              "          const docLinkHtml = 'Like what you see? Visit the ' +\n",
              "            '<a target=\"_blank\" href=https://colab.research.google.com/notebooks/data_table.ipynb>data table notebook</a>'\n",
              "            + ' to learn more about interactive tables.';\n",
              "          element.innerHTML = '';\n",
              "          dataTable['output_type'] = 'display_data';\n",
              "          await google.colab.output.renderOutput(dataTable, element);\n",
              "          const docLink = document.createElement('div');\n",
              "          docLink.innerHTML = docLinkHtml;\n",
              "          element.appendChild(docLink);\n",
              "        }\n",
              "      </script>\n",
              "    </div>\n",
              "  </div>\n",
              "  "
            ]
          },
          "metadata": {},
          "execution_count": 8
        }
      ]
    },
    {
      "cell_type": "code",
      "source": [
        "# distribution of target variable (status column in this case)\n",
        "parkinsons_data['status'].value_counts()"
      ],
      "metadata": {
        "id": "b5jwIeAvq3KV",
        "outputId": "946c4ab1-5d24-437f-ea08-9f7153491904",
        "colab": {
          "base_uri": "https://localhost:8080/"
        }
      },
      "execution_count": null,
      "outputs": [
        {
          "output_type": "execute_result",
          "data": {
            "text/plain": [
              "1    147\n",
              "0     48\n",
              "Name: status, dtype: int64"
            ]
          },
          "metadata": {},
          "execution_count": 9
        }
      ]
    },
    {
      "cell_type": "markdown",
      "source": [
        "1 --> Parkinson's Positive (affected with PD)\n",
        "\n",
        "0 --> Healthy (Not affected with PD)"
      ],
      "metadata": {
        "id": "5TfZIct6sflr"
      }
    },
    {
      "cell_type": "code",
      "source": [
        "# grouping the data based on target variable (we took the mean values for all people who do not have PD and also mean for all who have PD)\n",
        "parkinsons_data.groupby('status').mean()"
      ],
      "metadata": {
        "id": "niLLiHdGq3A1",
        "outputId": "90702be1-c3cb-469c-b382-8fd1a3dff2de",
        "colab": {
          "base_uri": "https://localhost:8080/",
          "height": 237
        }
      },
      "execution_count": null,
      "outputs": [
        {
          "output_type": "execute_result",
          "data": {
            "text/plain": [
              "        MDVP:Fo(Hz)  MDVP:Fhi(Hz)  MDVP:Flo(Hz)  MDVP:Jitter(%)  \\\n",
              "status                                                            \n",
              "0        181.937771    223.636750    145.207292        0.003866   \n",
              "1        145.180762    188.441463    106.893558        0.006989   \n",
              "\n",
              "        MDVP:Jitter(Abs)  MDVP:RAP  MDVP:PPQ  Jitter:DDP  MDVP:Shimmer  \\\n",
              "status                                                                   \n",
              "0               0.000023  0.001925  0.002056    0.005776      0.017615   \n",
              "1               0.000051  0.003757  0.003900    0.011273      0.033658   \n",
              "\n",
              "        MDVP:Shimmer(dB)  ...  MDVP:APQ  Shimmer:DDA       NHR        HNR  \\\n",
              "status                    ...                                               \n",
              "0               0.162958  ...  0.013305     0.028511  0.011483  24.678750   \n",
              "1               0.321204  ...  0.027600     0.053027  0.029211  20.974048   \n",
              "\n",
              "            RPDE       DFA   spread1   spread2        D2       PPE  \n",
              "status                                                              \n",
              "0       0.442552  0.695716 -6.759264  0.160292  2.154491  0.123017  \n",
              "1       0.516816  0.725408 -5.333420  0.248133  2.456058  0.233828  \n",
              "\n",
              "[2 rows x 22 columns]"
            ],
            "text/html": [
              "\n",
              "  <div id=\"df-339471ed-8277-4aed-b1e8-4c98bf9da675\">\n",
              "    <div class=\"colab-df-container\">\n",
              "      <div>\n",
              "<style scoped>\n",
              "    .dataframe tbody tr th:only-of-type {\n",
              "        vertical-align: middle;\n",
              "    }\n",
              "\n",
              "    .dataframe tbody tr th {\n",
              "        vertical-align: top;\n",
              "    }\n",
              "\n",
              "    .dataframe thead th {\n",
              "        text-align: right;\n",
              "    }\n",
              "</style>\n",
              "<table border=\"1\" class=\"dataframe\">\n",
              "  <thead>\n",
              "    <tr style=\"text-align: right;\">\n",
              "      <th></th>\n",
              "      <th>MDVP:Fo(Hz)</th>\n",
              "      <th>MDVP:Fhi(Hz)</th>\n",
              "      <th>MDVP:Flo(Hz)</th>\n",
              "      <th>MDVP:Jitter(%)</th>\n",
              "      <th>MDVP:Jitter(Abs)</th>\n",
              "      <th>MDVP:RAP</th>\n",
              "      <th>MDVP:PPQ</th>\n",
              "      <th>Jitter:DDP</th>\n",
              "      <th>MDVP:Shimmer</th>\n",
              "      <th>MDVP:Shimmer(dB)</th>\n",
              "      <th>...</th>\n",
              "      <th>MDVP:APQ</th>\n",
              "      <th>Shimmer:DDA</th>\n",
              "      <th>NHR</th>\n",
              "      <th>HNR</th>\n",
              "      <th>RPDE</th>\n",
              "      <th>DFA</th>\n",
              "      <th>spread1</th>\n",
              "      <th>spread2</th>\n",
              "      <th>D2</th>\n",
              "      <th>PPE</th>\n",
              "    </tr>\n",
              "    <tr>\n",
              "      <th>status</th>\n",
              "      <th></th>\n",
              "      <th></th>\n",
              "      <th></th>\n",
              "      <th></th>\n",
              "      <th></th>\n",
              "      <th></th>\n",
              "      <th></th>\n",
              "      <th></th>\n",
              "      <th></th>\n",
              "      <th></th>\n",
              "      <th></th>\n",
              "      <th></th>\n",
              "      <th></th>\n",
              "      <th></th>\n",
              "      <th></th>\n",
              "      <th></th>\n",
              "      <th></th>\n",
              "      <th></th>\n",
              "      <th></th>\n",
              "      <th></th>\n",
              "      <th></th>\n",
              "    </tr>\n",
              "  </thead>\n",
              "  <tbody>\n",
              "    <tr>\n",
              "      <th>0</th>\n",
              "      <td>181.937771</td>\n",
              "      <td>223.636750</td>\n",
              "      <td>145.207292</td>\n",
              "      <td>0.003866</td>\n",
              "      <td>0.000023</td>\n",
              "      <td>0.001925</td>\n",
              "      <td>0.002056</td>\n",
              "      <td>0.005776</td>\n",
              "      <td>0.017615</td>\n",
              "      <td>0.162958</td>\n",
              "      <td>...</td>\n",
              "      <td>0.013305</td>\n",
              "      <td>0.028511</td>\n",
              "      <td>0.011483</td>\n",
              "      <td>24.678750</td>\n",
              "      <td>0.442552</td>\n",
              "      <td>0.695716</td>\n",
              "      <td>-6.759264</td>\n",
              "      <td>0.160292</td>\n",
              "      <td>2.154491</td>\n",
              "      <td>0.123017</td>\n",
              "    </tr>\n",
              "    <tr>\n",
              "      <th>1</th>\n",
              "      <td>145.180762</td>\n",
              "      <td>188.441463</td>\n",
              "      <td>106.893558</td>\n",
              "      <td>0.006989</td>\n",
              "      <td>0.000051</td>\n",
              "      <td>0.003757</td>\n",
              "      <td>0.003900</td>\n",
              "      <td>0.011273</td>\n",
              "      <td>0.033658</td>\n",
              "      <td>0.321204</td>\n",
              "      <td>...</td>\n",
              "      <td>0.027600</td>\n",
              "      <td>0.053027</td>\n",
              "      <td>0.029211</td>\n",
              "      <td>20.974048</td>\n",
              "      <td>0.516816</td>\n",
              "      <td>0.725408</td>\n",
              "      <td>-5.333420</td>\n",
              "      <td>0.248133</td>\n",
              "      <td>2.456058</td>\n",
              "      <td>0.233828</td>\n",
              "    </tr>\n",
              "  </tbody>\n",
              "</table>\n",
              "<p>2 rows × 22 columns</p>\n",
              "</div>\n",
              "      <button class=\"colab-df-convert\" onclick=\"convertToInteractive('df-339471ed-8277-4aed-b1e8-4c98bf9da675')\"\n",
              "              title=\"Convert this dataframe to an interactive table.\"\n",
              "              style=\"display:none;\">\n",
              "        \n",
              "  <svg xmlns=\"http://www.w3.org/2000/svg\" height=\"24px\"viewBox=\"0 0 24 24\"\n",
              "       width=\"24px\">\n",
              "    <path d=\"M0 0h24v24H0V0z\" fill=\"none\"/>\n",
              "    <path d=\"M18.56 5.44l.94 2.06.94-2.06 2.06-.94-2.06-.94-.94-2.06-.94 2.06-2.06.94zm-11 1L8.5 8.5l.94-2.06 2.06-.94-2.06-.94L8.5 2.5l-.94 2.06-2.06.94zm10 10l.94 2.06.94-2.06 2.06-.94-2.06-.94-.94-2.06-.94 2.06-2.06.94z\"/><path d=\"M17.41 7.96l-1.37-1.37c-.4-.4-.92-.59-1.43-.59-.52 0-1.04.2-1.43.59L10.3 9.45l-7.72 7.72c-.78.78-.78 2.05 0 2.83L4 21.41c.39.39.9.59 1.41.59.51 0 1.02-.2 1.41-.59l7.78-7.78 2.81-2.81c.8-.78.8-2.07 0-2.86zM5.41 20L4 18.59l7.72-7.72 1.47 1.35L5.41 20z\"/>\n",
              "  </svg>\n",
              "      </button>\n",
              "      \n",
              "  <style>\n",
              "    .colab-df-container {\n",
              "      display:flex;\n",
              "      flex-wrap:wrap;\n",
              "      gap: 12px;\n",
              "    }\n",
              "\n",
              "    .colab-df-convert {\n",
              "      background-color: #E8F0FE;\n",
              "      border: none;\n",
              "      border-radius: 50%;\n",
              "      cursor: pointer;\n",
              "      display: none;\n",
              "      fill: #1967D2;\n",
              "      height: 32px;\n",
              "      padding: 0 0 0 0;\n",
              "      width: 32px;\n",
              "    }\n",
              "\n",
              "    .colab-df-convert:hover {\n",
              "      background-color: #E2EBFA;\n",
              "      box-shadow: 0px 1px 2px rgba(60, 64, 67, 0.3), 0px 1px 3px 1px rgba(60, 64, 67, 0.15);\n",
              "      fill: #174EA6;\n",
              "    }\n",
              "\n",
              "    [theme=dark] .colab-df-convert {\n",
              "      background-color: #3B4455;\n",
              "      fill: #D2E3FC;\n",
              "    }\n",
              "\n",
              "    [theme=dark] .colab-df-convert:hover {\n",
              "      background-color: #434B5C;\n",
              "      box-shadow: 0px 1px 3px 1px rgba(0, 0, 0, 0.15);\n",
              "      filter: drop-shadow(0px 1px 2px rgba(0, 0, 0, 0.3));\n",
              "      fill: #FFFFFF;\n",
              "    }\n",
              "  </style>\n",
              "\n",
              "      <script>\n",
              "        const buttonEl =\n",
              "          document.querySelector('#df-339471ed-8277-4aed-b1e8-4c98bf9da675 button.colab-df-convert');\n",
              "        buttonEl.style.display =\n",
              "          google.colab.kernel.accessAllowed ? 'block' : 'none';\n",
              "\n",
              "        async function convertToInteractive(key) {\n",
              "          const element = document.querySelector('#df-339471ed-8277-4aed-b1e8-4c98bf9da675');\n",
              "          const dataTable =\n",
              "            await google.colab.kernel.invokeFunction('convertToInteractive',\n",
              "                                                     [key], {});\n",
              "          if (!dataTable) return;\n",
              "\n",
              "          const docLinkHtml = 'Like what you see? Visit the ' +\n",
              "            '<a target=\"_blank\" href=https://colab.research.google.com/notebooks/data_table.ipynb>data table notebook</a>'\n",
              "            + ' to learn more about interactive tables.';\n",
              "          element.innerHTML = '';\n",
              "          dataTable['output_type'] = 'display_data';\n",
              "          await google.colab.output.renderOutput(dataTable, element);\n",
              "          const docLink = document.createElement('div');\n",
              "          docLink.innerHTML = docLinkHtml;\n",
              "          element.appendChild(docLink);\n",
              "        }\n",
              "      </script>\n",
              "    </div>\n",
              "  </div>\n",
              "  "
            ]
          },
          "metadata": {},
          "execution_count": 10
        }
      ]
    },
    {
      "cell_type": "markdown",
      "source": [
        "We see that Parkinson's Disease affected people(1) have very low voice frequency whereas healthy people have more frequency"
      ],
      "metadata": {
        "id": "JU-ZzbBZtmai"
      }
    },
    {
      "cell_type": "markdown",
      "source": [
        "Data Pre-Processing"
      ],
      "metadata": {
        "id": "vLOvgXfju5kM"
      }
    },
    {
      "cell_type": "markdown",
      "source": [
        "We will separate the features and Target column (status)"
      ],
      "metadata": {
        "id": "2lCrbfI7vQlB"
      }
    },
    {
      "cell_type": "code",
      "source": [
        "X = parkinsons_data.drop(columns = ['name','status'], axis = 1)\n",
        "Y = parkinsons_data['status']"
      ],
      "metadata": {
        "id": "YBBefsS8tl7Z"
      },
      "execution_count": null,
      "outputs": []
    },
    {
      "cell_type": "code",
      "source": [
        "print(X)"
      ],
      "metadata": {
        "id": "9NsX0J4jq2y4",
        "outputId": "7c439d2c-e695-409a-efa7-e3ecc25d20d9",
        "colab": {
          "base_uri": "https://localhost:8080/"
        }
      },
      "execution_count": null,
      "outputs": [
        {
          "output_type": "stream",
          "name": "stdout",
          "text": [
            "     MDVP:Fo(Hz)  MDVP:Fhi(Hz)  MDVP:Flo(Hz)  MDVP:Jitter(%)  \\\n",
            "0        119.992       157.302        74.997         0.00784   \n",
            "1        122.400       148.650       113.819         0.00968   \n",
            "2        116.682       131.111       111.555         0.01050   \n",
            "3        116.676       137.871       111.366         0.00997   \n",
            "4        116.014       141.781       110.655         0.01284   \n",
            "..           ...           ...           ...             ...   \n",
            "190      174.188       230.978        94.261         0.00459   \n",
            "191      209.516       253.017        89.488         0.00564   \n",
            "192      174.688       240.005        74.287         0.01360   \n",
            "193      198.764       396.961        74.904         0.00740   \n",
            "194      214.289       260.277        77.973         0.00567   \n",
            "\n",
            "     MDVP:Jitter(Abs)  MDVP:RAP  MDVP:PPQ  Jitter:DDP  MDVP:Shimmer  \\\n",
            "0             0.00007   0.00370   0.00554     0.01109       0.04374   \n",
            "1             0.00008   0.00465   0.00696     0.01394       0.06134   \n",
            "2             0.00009   0.00544   0.00781     0.01633       0.05233   \n",
            "3             0.00009   0.00502   0.00698     0.01505       0.05492   \n",
            "4             0.00011   0.00655   0.00908     0.01966       0.06425   \n",
            "..                ...       ...       ...         ...           ...   \n",
            "190           0.00003   0.00263   0.00259     0.00790       0.04087   \n",
            "191           0.00003   0.00331   0.00292     0.00994       0.02751   \n",
            "192           0.00008   0.00624   0.00564     0.01873       0.02308   \n",
            "193           0.00004   0.00370   0.00390     0.01109       0.02296   \n",
            "194           0.00003   0.00295   0.00317     0.00885       0.01884   \n",
            "\n",
            "     MDVP:Shimmer(dB)  ...  MDVP:APQ  Shimmer:DDA      NHR     HNR      RPDE  \\\n",
            "0               0.426  ...   0.02971      0.06545  0.02211  21.033  0.414783   \n",
            "1               0.626  ...   0.04368      0.09403  0.01929  19.085  0.458359   \n",
            "2               0.482  ...   0.03590      0.08270  0.01309  20.651  0.429895   \n",
            "3               0.517  ...   0.03772      0.08771  0.01353  20.644  0.434969   \n",
            "4               0.584  ...   0.04465      0.10470  0.01767  19.649  0.417356   \n",
            "..                ...  ...       ...          ...      ...     ...       ...   \n",
            "190             0.405  ...   0.02745      0.07008  0.02764  19.517  0.448439   \n",
            "191             0.263  ...   0.01879      0.04812  0.01810  19.147  0.431674   \n",
            "192             0.256  ...   0.01667      0.03804  0.10715  17.883  0.407567   \n",
            "193             0.241  ...   0.01588      0.03794  0.07223  19.020  0.451221   \n",
            "194             0.190  ...   0.01373      0.03078  0.04398  21.209  0.462803   \n",
            "\n",
            "          DFA   spread1   spread2        D2       PPE  \n",
            "0    0.815285 -4.813031  0.266482  2.301442  0.284654  \n",
            "1    0.819521 -4.075192  0.335590  2.486855  0.368674  \n",
            "2    0.825288 -4.443179  0.311173  2.342259  0.332634  \n",
            "3    0.819235 -4.117501  0.334147  2.405554  0.368975  \n",
            "4    0.823484 -3.747787  0.234513  2.332180  0.410335  \n",
            "..        ...       ...       ...       ...       ...  \n",
            "190  0.657899 -6.538586  0.121952  2.657476  0.133050  \n",
            "191  0.683244 -6.195325  0.129303  2.784312  0.168895  \n",
            "192  0.655683 -6.787197  0.158453  2.679772  0.131728  \n",
            "193  0.643956 -6.744577  0.207454  2.138608  0.123306  \n",
            "194  0.664357 -5.724056  0.190667  2.555477  0.148569  \n",
            "\n",
            "[195 rows x 22 columns]\n"
          ]
        }
      ]
    },
    {
      "cell_type": "code",
      "source": [
        "print(Y)"
      ],
      "metadata": {
        "id": "fkNcZZNoxIfA",
        "outputId": "6263b08b-89e3-440d-b66a-d15a693fcb05",
        "colab": {
          "base_uri": "https://localhost:8080/"
        }
      },
      "execution_count": null,
      "outputs": [
        {
          "output_type": "stream",
          "name": "stdout",
          "text": [
            "0      1\n",
            "1      1\n",
            "2      1\n",
            "3      1\n",
            "4      1\n",
            "      ..\n",
            "190    0\n",
            "191    0\n",
            "192    0\n",
            "193    0\n",
            "194    0\n",
            "Name: status, Length: 195, dtype: int64\n"
          ]
        }
      ]
    },
    {
      "cell_type": "markdown",
      "source": [
        "Splitting the data into Training data and Test data"
      ],
      "metadata": {
        "id": "Fv_DFtmLyIYJ"
      }
    },
    {
      "cell_type": "code",
      "source": [
        "X_train, X_test, Y_train, Y_test = train_test_split(X, Y, test_size=0.2, random_state = 2)"
      ],
      "metadata": {
        "id": "YbQomIdvxIXd"
      },
      "execution_count": null,
      "outputs": []
    },
    {
      "cell_type": "code",
      "source": [
        "print(X_train)"
      ],
      "metadata": {
        "id": "bvVKOQvQxINM",
        "outputId": "7a4d5f43-cf9c-412e-9927-2e52ad631156",
        "colab": {
          "base_uri": "https://localhost:8080/"
        }
      },
      "execution_count": null,
      "outputs": [
        {
          "output_type": "stream",
          "name": "stdout",
          "text": [
            "     MDVP:Fo(Hz)  MDVP:Fhi(Hz)  MDVP:Flo(Hz)  MDVP:Jitter(%)  \\\n",
            "123      182.018       197.173        79.187         0.00842   \n",
            "160      114.238       124.393        77.022         0.00581   \n",
            "94       157.821       172.975        68.401         0.00358   \n",
            "57       117.274       129.916       110.402         0.00752   \n",
            "41       184.055       196.537       166.977         0.00258   \n",
            "..           ...           ...           ...             ...   \n",
            "43       241.404       248.834       232.483         0.00281   \n",
            "22       167.930       193.221        79.068         0.00442   \n",
            "72       120.080       139.710       111.208         0.00405   \n",
            "15       142.167       217.455        83.159         0.00369   \n",
            "168      197.569       217.627        90.794         0.00803   \n",
            "\n",
            "     MDVP:Jitter(Abs)  MDVP:RAP  MDVP:PPQ  Jitter:DDP  MDVP:Shimmer  \\\n",
            "123           0.00005   0.00506   0.00449     0.01517       0.02503   \n",
            "160           0.00005   0.00299   0.00316     0.00896       0.04009   \n",
            "94            0.00002   0.00196   0.00196     0.00587       0.03716   \n",
            "57            0.00006   0.00299   0.00469     0.00898       0.02293   \n",
            "41            0.00001   0.00134   0.00147     0.00403       0.01463   \n",
            "..                ...       ...       ...         ...           ...   \n",
            "43            0.00001   0.00157   0.00173     0.00470       0.01760   \n",
            "22            0.00003   0.00220   0.00247     0.00661       0.04351   \n",
            "72            0.00003   0.00180   0.00220     0.00540       0.01706   \n",
            "15            0.00003   0.00157   0.00203     0.00471       0.01503   \n",
            "168           0.00004   0.00490   0.00448     0.01470       0.02177   \n",
            "\n",
            "     MDVP:Shimmer(dB)  ...  MDVP:APQ  Shimmer:DDA      NHR     HNR      RPDE  \\\n",
            "123             0.231  ...   0.01931      0.04115  0.01813  18.784  0.589956   \n",
            "160             0.406  ...   0.04114      0.04736  0.02073  20.437  0.653139   \n",
            "94              0.307  ...   0.02764      0.06185  0.00850  22.219  0.502380   \n",
            "57              0.221  ...   0.01948      0.03568  0.00681  22.817  0.530529   \n",
            "41              0.132  ...   0.01234      0.02226  0.00257  26.453  0.306443   \n",
            "..                ...  ...       ...          ...      ...     ...       ...   \n",
            "43              0.154  ...   0.01251      0.03017  0.00675  23.145  0.457702   \n",
            "22              0.377  ...   0.04246      0.06685  0.01280  22.468  0.619060   \n",
            "72              0.152  ...   0.01345      0.02921  0.00442  25.742  0.495954   \n",
            "15              0.126  ...   0.01359      0.02316  0.00839  25.175  0.565924   \n",
            "168             0.189  ...   0.01439      0.03836  0.01337  19.269  0.372222   \n",
            "\n",
            "          DFA   spread1   spread2        D2       PPE  \n",
            "123  0.732903 -5.445140  0.142466  2.174306  0.215558  \n",
            "160  0.694571 -5.185987  0.259229  2.151121  0.244948  \n",
            "94   0.712170 -6.251425  0.188056  2.143851  0.160812  \n",
            "57   0.817756 -4.608260  0.290024  2.021591  0.314464  \n",
            "41   0.759203 -7.044105  0.063412  2.361532  0.115730  \n",
            "..        ...       ...       ...       ...       ...  \n",
            "43   0.634267 -6.793547  0.158266  2.256699  0.117399  \n",
            "22   0.679834 -4.330956  0.262384  2.916777  0.285695  \n",
            "72   0.762959 -5.791820  0.329066  2.205024  0.188180  \n",
            "15   0.658245 -5.340115  0.210185  2.205546  0.234589  \n",
            "168  0.725216 -5.736781  0.164529  2.882450  0.202879  \n",
            "\n",
            "[156 rows x 22 columns]\n"
          ]
        }
      ]
    },
    {
      "cell_type": "code",
      "source": [
        "print(X_test)"
      ],
      "metadata": {
        "id": "W-jPIPCDzm2w",
        "outputId": "81fc6bb2-5340-4c9d-a312-1eec837594b3",
        "colab": {
          "base_uri": "https://localhost:8080/"
        }
      },
      "execution_count": null,
      "outputs": [
        {
          "output_type": "stream",
          "name": "stdout",
          "text": [
            "     MDVP:Fo(Hz)  MDVP:Fhi(Hz)  MDVP:Flo(Hz)  MDVP:Jitter(%)  \\\n",
            "10        88.333       112.240        84.072         0.00505   \n",
            "79       100.770       115.697        85.545         0.01038   \n",
            "164      102.273       142.830        85.902         0.00907   \n",
            "142      198.458       219.290       148.691         0.00376   \n",
            "186      116.556       592.030        86.228         0.00496   \n",
            "133      118.747       123.723       109.836         0.00331   \n",
            "35       201.464       210.565       195.708         0.00198   \n",
            "137      113.166       130.270       100.673         0.00502   \n",
            "25       104.400       206.002        77.968         0.00633   \n",
            "2        116.682       131.111       111.555         0.01050   \n",
            "12       136.926       159.866       131.276         0.00293   \n",
            "128      119.031       127.533       109.216         0.00440   \n",
            "144      202.544       241.350       164.168         0.00254   \n",
            "3        116.676       137.871       111.366         0.00997   \n",
            "48       122.188       128.611       115.765         0.00524   \n",
            "29       162.568       198.346        77.630         0.00502   \n",
            "14       152.845       163.305        75.836         0.00294   \n",
            "119      217.116       233.481        93.978         0.00404   \n",
            "6        120.267       137.244       114.820         0.00333   \n",
            "23       173.917       192.735        86.180         0.00476   \n",
            "108      151.989       157.339       132.857         0.00174   \n",
            "143      202.805       231.508        86.232         0.00370   \n",
            "129      120.078       126.632       105.667         0.00270   \n",
            "174      117.004       144.466        99.923         0.00353   \n",
            "45       242.852       255.034       227.911         0.00225   \n",
            "120      128.940       479.697        88.251         0.00581   \n",
            "173      113.715       116.443        96.913         0.00349   \n",
            "125      145.174       198.109        80.637         0.00733   \n",
            "9         95.056       120.103        91.226         0.00532   \n",
            "163      112.150       131.669        97.527         0.00519   \n",
            "54       108.807       134.656       102.874         0.00761   \n",
            "13       139.173       179.139        76.556         0.00390   \n",
            "109      193.030       208.900        80.297         0.00766   \n",
            "194      214.289       260.277        77.973         0.00567   \n",
            "78        95.385       102.145        90.264         0.00608   \n",
            "114      206.327       226.355        92.020         0.00495   \n",
            "44       243.439       250.912       232.435         0.00210   \n",
            "82       100.960       110.019        95.628         0.00606   \n",
            "158      126.144       154.284        97.543         0.00975   \n",
            "\n",
            "     MDVP:Jitter(Abs)  MDVP:RAP  MDVP:PPQ  Jitter:DDP  MDVP:Shimmer  \\\n",
            "10           0.000060   0.00254   0.00330     0.00763       0.02143   \n",
            "79           0.000100   0.00622   0.00576     0.01865       0.03121   \n",
            "164          0.000090   0.00493   0.00461     0.01480       0.02814   \n",
            "142          0.000020   0.00182   0.00215     0.00546       0.03527   \n",
            "186          0.000040   0.00254   0.00263     0.00762       0.01660   \n",
            "133          0.000030   0.00168   0.00171     0.00504       0.01043   \n",
            "35           0.000010   0.00105   0.00115     0.00314       0.01194   \n",
            "137          0.000040   0.00257   0.00312     0.00772       0.05279   \n",
            "25           0.000060   0.00316   0.00375     0.00948       0.03767   \n",
            "2            0.000090   0.00544   0.00781     0.01633       0.05233   \n",
            "12           0.000020   0.00118   0.00153     0.00355       0.01259   \n",
            "128          0.000040   0.00214   0.00192     0.00641       0.01033   \n",
            "144          0.000010   0.00100   0.00133     0.00301       0.02662   \n",
            "3            0.000090   0.00502   0.00698     0.01505       0.05492   \n",
            "48           0.000040   0.00169   0.00203     0.00507       0.01613   \n",
            "29           0.000030   0.00280   0.00253     0.00841       0.01791   \n",
            "14           0.000020   0.00121   0.00149     0.00364       0.01828   \n",
            "119          0.000020   0.00127   0.00128     0.00381       0.01299   \n",
            "6            0.000030   0.00155   0.00202     0.00466       0.01608   \n",
            "23           0.000030   0.00221   0.00258     0.00663       0.04192   \n",
            "108          0.000010   0.00075   0.00096     0.00225       0.01024   \n",
            "143          0.000020   0.00189   0.00211     0.00568       0.01997   \n",
            "129          0.000020   0.00116   0.00135     0.00349       0.01022   \n",
            "174          0.000030   0.00176   0.00218     0.00528       0.01657   \n",
            "45           0.000009   0.00117   0.00139     0.00350       0.01494   \n",
            "120          0.000050   0.00241   0.00314     0.00723       0.02008   \n",
            "173          0.000030   0.00171   0.00203     0.00514       0.01472   \n",
            "125          0.000050   0.00414   0.00422     0.01242       0.02362   \n",
            "9            0.000060   0.00268   0.00332     0.00803       0.02838   \n",
            "163          0.000050   0.00291   0.00284     0.00873       0.01756   \n",
            "54           0.000070   0.00349   0.00486     0.01046       0.02719   \n",
            "13           0.000030   0.00165   0.00208     0.00496       0.01642   \n",
            "109          0.000040   0.00450   0.00389     0.01351       0.03044   \n",
            "194          0.000030   0.00295   0.00317     0.00885       0.01884   \n",
            "78           0.000060   0.00331   0.00332     0.00994       0.03202   \n",
            "114          0.000020   0.00302   0.00246     0.00905       0.02105   \n",
            "44           0.000009   0.00109   0.00137     0.00327       0.01419   \n",
            "82           0.000060   0.00351   0.00348     0.01053       0.02427   \n",
            "158          0.000080   0.00593   0.00454     0.01778       0.02852   \n",
            "\n",
            "     MDVP:Shimmer(dB)  ...  MDVP:APQ  Shimmer:DDA      NHR     HNR      RPDE  \\\n",
            "10              0.197  ...   0.01892      0.03237  0.01166  21.118  0.611137   \n",
            "79              0.361  ...   0.02139      0.05320  0.02220  19.200  0.594387   \n",
            "164             0.272  ...   0.02073      0.04736  0.03882  18.447  0.671378   \n",
            "142             0.297  ...   0.02530      0.06165  0.01728  18.702  0.606273   \n",
            "186             0.154  ...   0.01491      0.02460  0.01397  23.958  0.566424   \n",
            "133             0.099  ...   0.00903      0.01471  0.00504  25.619  0.482296   \n",
            "35              0.107  ...   0.00957      0.01758  0.00135  31.732  0.344252   \n",
            "137             0.476  ...   0.04134      0.08689  0.03690  16.747  0.625362   \n",
            "25              0.381  ...   0.03780      0.05197  0.02887  22.066  0.522746   \n",
            "2               0.482  ...   0.03590      0.08270  0.01309  20.651  0.429895   \n",
            "12              0.112  ...   0.01140      0.01968  0.00581  25.703  0.460600   \n",
            "128             0.098  ...   0.00811      0.01614  0.01724  26.842  0.457541   \n",
            "144             0.228  ...   0.02006      0.04426  0.01049  20.680  0.497480   \n",
            "3               0.517  ...   0.03772      0.08771  0.01353  20.644  0.434969   \n",
            "48              0.143  ...   0.01433      0.02566  0.00839  23.162  0.579597   \n",
            "29              0.168  ...   0.01799      0.02380  0.01170  25.678  0.427785   \n",
            "14              0.158  ...   0.01246      0.03191  0.00609  24.922  0.474791   \n",
            "119             0.124  ...   0.01075      0.02038  0.00681  24.581  0.462516   \n",
            "6               0.140  ...   0.01351      0.02337  0.00607  24.886  0.596040   \n",
            "23              0.364  ...   0.03772      0.06562  0.01840  20.422  0.537264   \n",
            "108             0.093  ...   0.00993      0.01364  0.00238  29.928  0.311369   \n",
            "143             0.180  ...   0.01506      0.03350  0.02010  18.687  0.536102   \n",
            "129             0.090  ...   0.00903      0.01428  0.00487  26.369  0.491345   \n",
            "174             0.145  ...   0.01318      0.02643  0.00590  25.445  0.387482   \n",
            "45              0.134  ...   0.01014      0.02542  0.00476  25.032  0.431285   \n",
            "120             0.221  ...   0.01734      0.02548  0.02350  24.743  0.487756   \n",
            "173             0.133  ...   0.01148      0.02245  0.00478  26.547  0.380253   \n",
            "125             0.233  ...   0.01944      0.03706  0.01874  18.857  0.637518   \n",
            "9               0.255  ...   0.02444      0.04324  0.01022  21.862  0.547037   \n",
            "163             0.155  ...   0.01363      0.02902  0.01435  21.219  0.557045   \n",
            "54              0.255  ...   0.02067      0.04450  0.01036  21.028  0.536009   \n",
            "13              0.154  ...   0.01797      0.02184  0.01041  24.889  0.430166   \n",
            "109             0.275  ...   0.02084      0.05312  0.00947  21.934  0.497554   \n",
            "194             0.190  ...   0.01373      0.03078  0.04398  21.209  0.462803   \n",
            "78              0.263  ...   0.02455      0.05408  0.01062  21.875  0.644954   \n",
            "114             0.209  ...   0.01604      0.03320  0.01048  21.864  0.331508   \n",
            "44              0.126  ...   0.01033      0.02330  0.00454  25.368  0.438296   \n",
            "82              0.216  ...   0.01751      0.04114  0.01237  20.536  0.554610   \n",
            "158             0.266  ...   0.02157      0.04499  0.03828  21.534  0.635015   \n",
            "\n",
            "          DFA   spread1   spread2        D2       PPE  \n",
            "10   0.776156 -5.249770  0.391002  2.407313  0.249740  \n",
            "79   0.790117 -4.913885  0.265699  2.398422  0.277948  \n",
            "164  0.674562 -2.929379  0.396746  2.560422  0.367233  \n",
            "142  0.661735 -5.585259  0.310746  2.465528  0.209863  \n",
            "186  0.667654 -6.431119  0.153310  2.161936  0.120605  \n",
            "133  0.723096 -6.448134  0.178713  2.034827  0.141422  \n",
            "35   0.742737 -7.777685  0.170183  2.447064  0.057610  \n",
            "137  0.708617 -4.654894  0.304107  2.672362  0.274387  \n",
            "25   0.737948 -5.571843  0.236853  2.846369  0.219514  \n",
            "2    0.825288 -4.443179  0.311173  2.342259  0.332634  \n",
            "12   0.646846 -6.547148  0.152813  2.041277  0.138512  \n",
            "128  0.699787 -6.890021  0.152941  2.328513  0.112856  \n",
            "144  0.630409 -6.132663  0.220617  2.576563  0.159777  \n",
            "3    0.819235 -4.117501  0.334147  2.405554  0.368975  \n",
            "48   0.733659 -6.439398  0.266392  2.079922  0.133867  \n",
            "29   0.723797 -6.635729  0.209866  1.957961  0.135242  \n",
            "14   0.654027 -6.105098  0.203653  2.125618  0.170100  \n",
            "119  0.582710 -5.517173  0.389295  2.925862  0.220657  \n",
            "6    0.764112 -5.634322  0.257682  1.854785  0.211756  \n",
            "23   0.686894 -5.248776  0.210279  2.547508  0.253556  \n",
            "108  0.676066 -6.739151  0.160686  2.296873  0.115130  \n",
            "143  0.632631 -5.898673  0.213353  2.470746  0.189032  \n",
            "129  0.718839 -5.892061  0.195976  2.108873  0.183572  \n",
            "174  0.756482 -6.012559  0.229298  1.872946  0.163118  \n",
            "45   0.638928 -6.995820  0.102083  2.365800  0.102706  \n",
            "120  0.684130 -6.186128  0.279933  2.686240  0.152428  \n",
            "173  0.766700 -5.943501  0.192150  1.852542  0.179677  \n",
            "125  0.735546 -5.594275  0.127950  1.765957  0.222716  \n",
            "9    0.798463 -5.011879  0.325996  2.432792  0.271362  \n",
            "163  0.673086 -5.617124  0.184896  1.871871  0.212386  \n",
            "54   0.819032 -4.649573  0.205558  1.986899  0.316700  \n",
            "13   0.665833 -5.660217  0.254989  2.519422  0.199889  \n",
            "109  0.740539 -5.845099  0.278679  2.608749  0.185668  \n",
            "194  0.664357 -5.724056  0.190667  2.555477  0.148569  \n",
            "78   0.779612 -5.115212  0.249494  2.017753  0.260015  \n",
            "114  0.715121 -6.729713  0.181701  2.938114  0.115515  \n",
            "44   0.635285 -7.057869  0.091608  2.330716  0.091470  \n",
            "82   0.787896 -5.022288  0.146948  2.428306  0.264666  \n",
            "158  0.627337 -5.070096  0.280091  2.892300  0.249703  \n",
            "\n",
            "[39 rows x 22 columns]\n"
          ]
        }
      ]
    },
    {
      "cell_type": "code",
      "source": [
        "print(Y_train)"
      ],
      "metadata": {
        "id": "aVlaKg1Fzmza",
        "outputId": "64f2cb90-cdb8-4cbb-c90e-287327c0b2ab",
        "colab": {
          "base_uri": "https://localhost:8080/"
        }
      },
      "execution_count": null,
      "outputs": [
        {
          "output_type": "stream",
          "name": "stdout",
          "text": [
            "123    1\n",
            "160    1\n",
            "94     1\n",
            "57     1\n",
            "41     1\n",
            "      ..\n",
            "43     0\n",
            "22     1\n",
            "72     1\n",
            "15     1\n",
            "168    0\n",
            "Name: status, Length: 156, dtype: int64\n"
          ]
        }
      ]
    },
    {
      "cell_type": "code",
      "source": [
        "print(Y_test)"
      ],
      "metadata": {
        "id": "0ZvnV8bCzmwf",
        "outputId": "4bf547f0-aede-4f77-b96c-16cee9db806f",
        "colab": {
          "base_uri": "https://localhost:8080/"
        }
      },
      "execution_count": null,
      "outputs": [
        {
          "output_type": "stream",
          "name": "stdout",
          "text": [
            "10     1\n",
            "79     1\n",
            "164    1\n",
            "142    1\n",
            "186    0\n",
            "133    1\n",
            "35     0\n",
            "137    1\n",
            "25     1\n",
            "2      1\n",
            "12     1\n",
            "128    1\n",
            "144    1\n",
            "3      1\n",
            "48     0\n",
            "29     1\n",
            "14     1\n",
            "119    1\n",
            "6      1\n",
            "23     1\n",
            "108    1\n",
            "143    1\n",
            "129    1\n",
            "174    0\n",
            "45     0\n",
            "120    1\n",
            "173    0\n",
            "125    1\n",
            "9      1\n",
            "163    1\n",
            "54     1\n",
            "13     1\n",
            "109    1\n",
            "194    0\n",
            "78     1\n",
            "114    1\n",
            "44     0\n",
            "82     1\n",
            "158    1\n",
            "Name: status, dtype: int64\n"
          ]
        }
      ]
    },
    {
      "cell_type": "code",
      "source": [
        "print(X.shape, X_train.shape, X_test.shape)"
      ],
      "metadata": {
        "id": "Lcxw-qh8zmtG",
        "outputId": "4a3190e5-9799-46a5-f341-d1dddb2098c5",
        "colab": {
          "base_uri": "https://localhost:8080/"
        }
      },
      "execution_count": null,
      "outputs": [
        {
          "output_type": "stream",
          "name": "stdout",
          "text": [
            "(195, 22) (156, 22) (39, 22)\n"
          ]
        }
      ]
    },
    {
      "cell_type": "markdown",
      "source": [
        "Data Standardization"
      ],
      "metadata": {
        "id": "NBNnGcdp0GeU"
      }
    },
    {
      "cell_type": "code",
      "source": [
        "scaler = StandardScaler()"
      ],
      "metadata": {
        "id": "Vo0Q-11LzmqN"
      },
      "execution_count": null,
      "outputs": []
    },
    {
      "cell_type": "code",
      "source": [
        "scaler.fit(X_train)"
      ],
      "metadata": {
        "id": "yvX3Z0yazmhU",
        "outputId": "d3830be7-d8ad-47c8-a3e0-4bfc59dd47bc",
        "colab": {
          "base_uri": "https://localhost:8080/"
        }
      },
      "execution_count": null,
      "outputs": [
        {
          "output_type": "execute_result",
          "data": {
            "text/plain": [
              "StandardScaler()"
            ]
          },
          "metadata": {},
          "execution_count": 21
        }
      ]
    },
    {
      "cell_type": "code",
      "source": [
        "X_train = scaler.transform(X_train) # converts all values in same range\n",
        "\n",
        "X_test = scaler.transform(X_test)"
      ],
      "metadata": {
        "id": "rnZlj43-1Wj4"
      },
      "execution_count": null,
      "outputs": []
    },
    {
      "cell_type": "code",
      "source": [
        "print(X_train)"
      ],
      "metadata": {
        "id": "ByJ5WqMY1WhS",
        "outputId": "e0ef2ac7-125a-41fc-81ce-5cc5097114a4",
        "colab": {
          "base_uri": "https://localhost:8080/"
        }
      },
      "execution_count": null,
      "outputs": [
        {
          "output_type": "stream",
          "name": "stdout",
          "text": [
            "[[ 0.63239631 -0.02731081 -0.87985049 ... -0.97586547 -0.55160318\n",
            "   0.07769494]\n",
            " [-1.05512719 -0.83337041 -0.9284778  ...  0.3981808  -0.61014073\n",
            "   0.39291782]\n",
            " [ 0.02996187 -0.29531068 -1.12211107 ... -0.43937044 -0.62849605\n",
            "  -0.50948408]\n",
            " ...\n",
            " [-0.9096785  -0.6637302  -0.160638   ...  1.22001022 -0.47404629\n",
            "  -0.2159482 ]\n",
            " [-0.35977689  0.19731822 -0.79063679 ... -0.17896029 -0.47272835\n",
            "   0.28181221]\n",
            " [ 1.01957066  0.19922317 -0.61914972 ... -0.716232    1.23632066\n",
            "  -0.05829386]]\n"
          ]
        }
      ]
    },
    {
      "cell_type": "markdown",
      "source": [
        "Range of X_train is between -1 to +1"
      ],
      "metadata": {
        "id": "2PT_xmWu2bZy"
      }
    },
    {
      "cell_type": "code",
      "source": [
        "print(X_test)"
      ],
      "metadata": {
        "id": "vguS5m6K1WeX",
        "outputId": "f41462db-a797-451f-c450-77c2ae721ffd",
        "colab": {
          "base_uri": "https://localhost:8080/"
        }
      },
      "execution_count": null,
      "outputs": [
        {
          "output_type": "stream",
          "name": "stdout",
          "text": [
            "[[-1.70008583e+00 -9.67968410e-01 -7.70130215e-01 -2.75000683e-01\n",
            "   4.16156683e-01 -2.92615113e-01 -9.70869783e-02 -2.91621655e-01\n",
            "  -4.94706656e-01 -4.90058396e-01 -5.32488171e-01 -4.26848854e-01\n",
            "  -3.60251422e-01 -5.32484688e-01 -3.57189713e-01 -1.08840337e-01\n",
            "   1.06963705e+00  1.05628304e+00  3.72180199e-01  1.94886208e+00\n",
            "   3.66935071e-02  4.44314482e-01]\n",
            " [-1.39044095e+00 -9.29681132e-01 -7.37045677e-01  7.42068829e-01\n",
            "   1.50451280e+00  8.54349819e-01  7.33639862e-01  8.53234751e-01\n",
            "  -3.12538562e-03  3.01660094e-01  1.16511011e-01 -7.67595149e-02\n",
            "  -2.23967413e-01  1.16829276e-01 -1.19644974e-01 -5.22790834e-01\n",
            "   9.12650090e-01  1.31721995e+00  6.70118138e-01  4.74318608e-01\n",
            "   1.42454868e-02  7.46859799e-01]\n",
            " [-1.35302065e+00 -6.29175292e-01 -7.29027225e-01  4.92094897e-01\n",
            "   1.23242377e+00  4.52288742e-01  3.45291949e-01  4.53262231e-01\n",
            "  -1.57435662e-01 -1.27992014e-01 -6.49095096e-02 -2.59345791e-01\n",
            "  -2.60383383e-01 -6.52155416e-02  2.54927471e-01 -6.85306331e-01\n",
            "   1.63423714e+00 -8.42551171e-01  2.43042190e+00  2.01645645e+00\n",
            "   4.23263515e-01  1.70448737e+00]\n",
            " [ 1.04170416e+00  2.17641374e-01  6.81254572e-01 -5.21158220e-01\n",
            "  -6.72199437e-01 -5.17021295e-01 -4.85434892e-01 -5.17060712e-01\n",
            "   2.00946185e-01 -7.30321934e-03  3.80225376e-01  1.55839524e-01\n",
            "  -8.23037710e-03  3.80233164e-01 -2.30529235e-01 -6.30271202e-01\n",
            "   1.02404991e+00 -1.08229315e+00  7.45935205e-02  1.00442371e+00\n",
            "   1.83674893e-01  1.66131346e-02]\n",
            " [-9.97415782e-01  4.34584493e+00 -7.21705053e-01 -2.92174464e-01\n",
            "  -1.28021377e-01 -2.92615113e-01 -3.23341850e-01 -2.92660545e-01\n",
            "  -7.37481456e-01 -6.97643122e-01 -7.74693918e-01 -7.20574603e-01\n",
            "  -5.81506029e-01 -7.74691576e-01 -3.05128200e-01  5.04099919e-01\n",
            "   6.50570904e-01 -9.71664570e-01 -6.75704306e-01 -8.48255200e-01\n",
            "  -5.82834991e-01 -9.40724851e-01]\n",
            " [-9.42866298e-01 -8.40790856e-01 -1.91454011e-01 -6.07027128e-01\n",
            "  -4.00110407e-01 -5.60655830e-01 -6.34020180e-01 -5.60694078e-01\n",
            "  -1.04760993e+00 -9.63158469e-01 -1.08329583e+00 -9.99217138e-01\n",
            "  -9.05939218e-01 -1.08298323e+00 -5.06387642e-01  8.62583639e-01\n",
            "  -1.37906646e-01  6.45695194e-02 -6.90797014e-01 -5.49317204e-01\n",
            "  -9.03760130e-01 -7.17451813e-01]\n",
            " [ 1.11654476e+00  1.21009469e-01  1.73728699e+00 -8.60817456e-01\n",
            "  -9.44288467e-01 -7.57011240e-01 -8.23128729e-01 -7.58083113e-01\n",
            "  -9.71711386e-01 -9.24538055e-01 -9.93520731e-01 -8.88871519e-01\n",
            "  -8.76144334e-01 -9.93519422e-01 -5.89550838e-01  2.18191596e+00\n",
            "  -1.43170413e+00  4.31667996e-01 -1.87014020e+00 -6.49696731e-01\n",
            "   1.37056937e-01 -1.61637865e+00]\n",
            " [-1.08181685e+00 -7.68280933e-01 -3.97260953e-01 -2.80725277e-01\n",
            "  -1.28021377e-01 -2.83264855e-01 -1.57871869e-01 -2.82271648e-01\n",
            "   1.08157030e+00  8.56828547e-01  1.16669268e+00  1.16482717e+00\n",
            "   8.76788050e-01  1.16701590e+00  2.11655564e-01 -1.05220719e+00\n",
            "   1.20295881e+00 -2.06049026e-01  8.99849281e-01  9.26297137e-01\n",
            "   7.05889923e-01  7.08666241e-01]\n",
            " [-1.30006458e+00  7.04729216e-02 -9.07230027e-01 -3.07513440e-02\n",
            "   4.16156683e-01 -9.93764557e-02  5.48752486e-02 -9.94270682e-02\n",
            "   3.21579625e-01  3.98211129e-01  7.81695609e-02  2.90000745e-01\n",
            "   6.81466028e-01  7.84876447e-02  3.06798283e-02  9.57608471e-02\n",
            "   2.41205147e-01  3.42159590e-01  8.64938299e-02  1.34863999e-01\n",
            "   1.14522326e+00  1.20125076e-01]\n",
            " [-9.94278751e-01 -7.58966614e-01 -1.52844152e-01  7.64967205e-01\n",
            "   1.23242377e+00  6.11243122e-01  1.42591223e+00  6.12212349e-01\n",
            "   1.05844889e+00  8.85793858e-01  1.03670582e+00  1.57048624e+00\n",
            "   5.76632175e-01  1.03640498e+00 -3.24961157e-01 -2.09630161e-01\n",
            "  -6.29027463e-01  1.97458060e+00  1.08764549e+00  1.00944857e+00\n",
            "  -1.27555004e-01  1.33339529e+00]\n",
            " [-4.90262437e-01 -4.40496653e-01  2.90102340e-01 -6.79538650e-01\n",
            "  -6.72199437e-01 -7.16493457e-01 -6.94805071e-01 -7.15488637e-01\n",
            "  -9.39039829e-01 -9.00400296e-01 -9.28059719e-01 -9.23007214e-01\n",
            "  -7.75172780e-01 -9.28058101e-01 -4.89033804e-01  8.80712858e-01\n",
            "  -3.41249278e-01 -1.36057476e+00 -7.78624773e-01 -8.54103808e-01\n",
            "  -8.87475153e-01 -7.48663060e-01]\n",
            " [-9.35795530e-01 -7.98594001e-01 -2.05379614e-01 -3.99033550e-01\n",
            "  -1.28021377e-01 -4.17285214e-01 -5.63104474e-01 -4.18366194e-01\n",
            "  -1.05263632e+00 -9.67986021e-01 -1.03840828e+00 -1.03970366e+00\n",
            "  -9.56700874e-01 -1.03840719e+00 -2.31430733e-01  1.12653643e+00\n",
            "  -3.69919314e-01 -3.71085406e-01 -1.08276123e+00 -8.52597527e-01\n",
            "  -1.62260941e-01 -1.02383686e+00]\n",
            " [ 1.14343359e+00  4.61962269e-01  1.02887806e+00 -7.53958371e-01\n",
            "  -9.44288467e-01 -7.72595003e-01 -7.62343838e-01 -7.71588679e-01\n",
            "  -2.33836841e-01 -3.40404291e-01 -1.62165871e-01 -2.55376525e-01\n",
            "  -2.97351110e-01 -1.61848921e-01 -3.83558531e-01 -2.03371264e-01\n",
            "   4.40320486e-03 -1.66778915e+00 -4.10966775e-01 -5.61983681e-02\n",
            "   4.64016354e-01 -5.20584992e-01]\n",
            " [-9.94428133e-01 -6.84097654e-01 -1.57089215e-01  6.63832713e-01\n",
            "   1.23242377e+00  4.80339515e-01  1.14562634e+00  4.79234473e-01\n",
            "   1.18863248e+00  1.05475817e+00  1.19287709e+00  1.68718269e+00\n",
            "   6.77051971e-01  1.19257699e+00 -3.15044679e-01 -2.11140929e-01\n",
            "  -5.81472130e-01  1.86144750e+00  1.37652958e+00  1.27980253e+00\n",
            "   3.22523792e-02  1.72317122e+00]\n",
            " [-8.57195476e-01 -7.86654839e-01 -5.82848127e-02 -2.38744922e-01\n",
            "  -1.28021377e-01 -5.57539078e-01 -5.25958152e-01 -5.57577409e-01\n",
            "  -7.61105504e-01 -7.50746192e-01 -7.41963411e-01 -8.76169865e-01\n",
            "  -6.13507942e-01 -7.41649195e-01 -4.30887179e-01  3.32303988e-01\n",
            "   7.74032948e-01  2.61996392e-01 -6.83047975e-01  4.82473709e-01\n",
            "  -7.89904155e-01 -7.98483076e-01]\n",
            " [ 1.48148268e-01 -1.43194979e-02 -9.14821727e-01 -2.80725277e-01\n",
            "  -4.00110407e-01 -2.11579547e-01 -3.57111233e-01 -2.10588262e-01\n",
            "  -6.71635703e-01 -6.30057397e-01 -7.99943166e-01 -6.53097066e-01\n",
            "  -4.11564835e-01 -7.99629223e-01 -3.56288215e-01  8.75317257e-01\n",
            "  -6.48803134e-01  7.76715016e-02 -8.57198216e-01 -1.82714228e-01\n",
            "  -1.09783161e+00 -7.83735493e-01]\n",
            " [-9.39259575e-02 -4.02408731e-01 -9.55116135e-01 -6.77630452e-01\n",
            "  -6.72199437e-01 -7.07143200e-01 -7.08312824e-01 -7.06138630e-01\n",
            "  -6.53038047e-01 -6.78332915e-01 -5.46515531e-01 -7.20574603e-01\n",
            "  -7.16686525e-01 -5.46823834e-01 -4.82723318e-01  7.12154288e-01\n",
            "  -2.08246176e-01 -1.22635888e+00 -3.86515968e-01 -2.55827710e-01\n",
            "  -6.74530773e-01 -4.09865504e-01]\n",
            " [ 1.50623372e+00  3.74810813e-01 -5.47635010e-01 -4.67728677e-01\n",
            "  -6.72199437e-01 -6.88442684e-01 -7.79228530e-01 -6.88477506e-01\n",
            "  -9.18934256e-01 -8.42469675e-01 -9.06551100e-01 -9.91278604e-01\n",
            "  -8.11036993e-01 -9.06237660e-01 -4.66496353e-01  6.38558292e-01\n",
            "  -3.23291844e-01 -2.55930334e+00  1.34987413e-01  1.92877440e+00\n",
            "   1.34592739e+00  1.32384340e-01]\n",
            " [-9.05022750e-01 -6.91041861e-01 -7.95101276e-02 -6.03210732e-01\n",
            "  -4.00110407e-01 -6.01173613e-01 -5.29335090e-01 -6.00171885e-01\n",
            "  -7.63618701e-01 -7.65228847e-01 -8.13035368e-01 -7.48359471e-01\n",
            "  -6.58752027e-01 -8.13033207e-01 -4.83174067e-01  7.04384622e-01\n",
            "   9.28142594e-01  8.31175656e-01  3.10734791e-02  3.79975975e-01\n",
            "  -1.35833065e+00  3.69165339e-02]\n",
            " [ 4.30705131e-01 -7.64629495e-02 -7.22783164e-01 -3.30338424e-01\n",
            "  -4.00110407e-01 -3.95467946e-01 -3.40226541e-01 -3.95510622e-01\n",
            "   5.35201343e-01  3.16142749e-01  5.03666143e-01  4.68617754e-01\n",
            "   6.77051971e-01  5.03986233e-01 -2.05287289e-01 -2.59053864e-01\n",
            "   3.77273009e-01 -6.12060951e-01  3.73061900e-01 -1.77854118e-01\n",
            "   3.90658214e-01  4.85243046e-01]\n",
            " [-1.15237851e-01 -4.68483911e-01  3.25612629e-01 -9.06614207e-01\n",
            "  -9.44288467e-01 -8.50513816e-01 -8.87290558e-01 -8.50544293e-01\n",
            "  -1.05716007e+00 -9.92123780e-01 -1.11602634e+00 -1.03494054e+00\n",
            "  -8.56281077e-01 -1.11633733e+00 -5.66337263e-01  1.79256940e+00\n",
            "  -1.73989531e+00 -8.14440784e-01 -9.48935976e-01 -7.61455741e-01\n",
            "  -2.42145697e-01 -9.99447044e-01]\n",
            " [ 1.14993173e+00  3.52959266e-01 -7.21615210e-01 -5.32607407e-01\n",
            "  -6.72199437e-01 -4.95204027e-01 -4.98942645e-01 -4.94205139e-01\n",
            "  -5.68091999e-01 -5.72126776e-01 -4.96952193e-01 -5.57834661e-01\n",
            "  -5.73229672e-01 -4.97260262e-01 -1.66973622e-01 -6.33508563e-01\n",
            "   3.66382331e-01 -1.62625904e+00 -2.03412110e-01 -1.41679831e-01\n",
            "   1.96849313e-01 -2.06810061e-01]\n",
            " [-9.09728296e-01 -8.08572837e-01 -2.85092463e-01 -7.23427203e-01\n",
            "  -6.72199437e-01 -7.22726962e-01 -7.55589962e-01 -7.21721975e-01\n",
            "  -1.05816535e+00 -1.00660644e+00 -1.09638804e+00 -1.02541430e+00\n",
            "  -9.05939218e-01 -1.09638721e+00 -5.10219009e-01  1.02445166e+00\n",
            "  -5.30961981e-02 -1.49955850e-02 -1.97547110e-01 -3.46169284e-01\n",
            "  -7.16808594e-01 -2.65371371e-01]\n",
            " [-9.86261894e-01 -6.11056117e-01 -4.14106441e-01 -5.65046773e-01\n",
            "  -4.00110407e-01 -5.35721810e-01 -4.75304076e-01 -5.35760726e-01\n",
            "  -7.38989374e-01 -7.41091088e-01 -7.17649321e-01 -6.49127799e-01\n",
            "  -6.76960012e-01 -7.17646711e-01 -4.87005434e-01  8.25030257e-01\n",
            "  -1.02653719e+00  6.88567776e-01 -3.04431686e-01  4.59580994e-02\n",
            "  -1.31247771e+00 -4.84751047e-01]\n",
            " [ 2.14698475e+00  6.13516536e-01  2.46058732e+00 -8.09296111e-01\n",
            "  -9.71497369e-01 -7.19610210e-01 -7.42082208e-01 -7.20683085e-01\n",
            "  -8.20919585e-01 -7.94194157e-01 -7.49444670e-01 -7.94402967e-01\n",
            "  -8.44694178e-01 -7.49130489e-01 -5.12698129e-01  7.35894931e-01\n",
            "  -6.15999889e-01 -1.50856548e+00 -1.17660745e+00 -1.45108545e+00\n",
            "  -6.81186250e-02 -1.13270084e+00]\n",
            " [-6.89090449e-01  3.10172439e+00 -6.76267156e-01 -1.29977638e-01\n",
            "   1.44067653e-01 -3.33132896e-01 -1.51117992e-01 -3.33177242e-01\n",
            "  -5.62562967e-01 -3.74197154e-01 -7.47574355e-01 -6.05465863e-01\n",
            "  -4.47429048e-01 -7.47260166e-01 -9.03462865e-02  6.73521785e-01\n",
            "  -8.67335831e-02 -6.63721263e-01 -4.58391494e-01  6.41821794e-01\n",
            "   7.40929134e-01 -5.99406799e-01]\n",
            " [-1.06814836e+00 -9.21418966e-01 -4.81713000e-01 -5.72679564e-01\n",
            "  -4.00110407e-01 -5.51305573e-01 -5.25958152e-01 -5.50305181e-01\n",
            "  -8.31977651e-01 -7.99021709e-01 -8.42025245e-01 -7.73762779e-01\n",
            "  -7.70758723e-01 -8.41711501e-01 -5.12247380e-01  1.06286834e+00\n",
            "  -1.09428995e+00  8.79546455e-01 -2.43175607e-01 -3.91192973e-01\n",
            "  -1.36399378e+00 -3.07147250e-01]\n",
            " [-2.84911392e-01 -1.69443416e-02 -8.47282551e-01  1.60068452e-01\n",
            "   1.44067653e-01  2.06065292e-01  2.13591352e-01  2.06006492e-01\n",
            "  -3.84628642e-01 -3.16266532e-01 -3.86603629e-01 -3.05389287e-01\n",
            "  -3.31560052e-01 -3.86287737e-01 -1.97624556e-01 -5.96818477e-01\n",
            "   1.31688917e+00  2.97265209e-01  6.65961153e-02 -1.14668718e+00\n",
            "  -1.58260382e+00  1.54468174e-01]\n",
            " [-1.53270282e+00 -8.80883405e-01 -6.09446720e-01 -2.23479338e-01\n",
            "   4.16156683e-01 -2.48980577e-01 -9.03331016e-02 -2.50066069e-01\n",
            "  -1.45372318e-01 -2.10060394e-01 -1.93961220e-01 -1.22803011e-01\n",
            "  -5.56814898e-02 -1.93644420e-01 -3.89643643e-01  5.17327442e-02\n",
            "   4.68869042e-01  1.47321016e+00  5.83195142e-01  1.18388300e+00\n",
            "   1.01022954e-01  6.76221560e-01]\n",
            " [-1.10711228e+00 -7.52786602e-01 -4.67922160e-01 -2.48285911e-01\n",
            "   1.44067653e-01 -1.77295269e-01 -2.52426144e-01 -1.77343793e-01\n",
            "  -6.89228079e-01 -6.92815570e-01 -6.37225791e-01 -6.72149547e-01\n",
            "  -6.52130941e-01 -6.36911081e-01 -2.96563968e-01 -8.70421095e-02\n",
            "   5.62667579e-01 -8.70138226e-01  4.63285119e-02 -4.76556757e-01\n",
            "  -1.31519187e+00  4.36736081e-02]\n",
            " [-1.19034319e+00 -7.19704711e-01 -3.47825061e-01  2.13497995e-01\n",
            "   6.88245713e-01  3.47637782e-03  4.29715408e-01  2.38411858e-03\n",
            "  -2.05186399e-01 -2.10060394e-01 -1.54684613e-01 -2.14890002e-01\n",
            "  -2.63693926e-01 -1.54367627e-01 -3.86488400e-01 -1.28264500e-01\n",
            "   3.65510702e-01  1.85765335e+00  9.04569134e-01 -2.33410008e-01\n",
            "  -1.02476887e+00  1.16249494e+00]\n",
            " [-4.34318718e-01 -2.27042591e-01 -9.38944466e-01 -4.94443448e-01\n",
            "  -4.00110407e-01 -5.70006088e-01 -5.09073460e-01 -5.69005195e-01\n",
            "  -7.46528964e-01 -6.97643122e-01 -8.60728392e-01 -7.52328738e-01\n",
            "  -4.12668349e-01 -8.60726456e-01 -3.85361527e-01  7.05032094e-01\n",
            "  -6.26487555e-01 -1.00569982e+00  8.10400161e-03  3.48285229e-01\n",
            "   3.19746607e-01 -9.03631484e-02]\n",
            " [ 9.06562857e-01  1.02569112e-01 -8.54919172e-01  2.23038985e-01\n",
            "  -1.28021377e-01  3.18268384e-01  1.02152386e-01  3.19245465e-01\n",
            "  -4.18286145e-02 -1.13509358e-01  1.14640696e-01 -5.13562069e-02\n",
            "  -2.54314055e-01  1.14335511e-01 -4.06546732e-01  6.72720746e-02\n",
            "   5.09675919e-03  3.90586460e-01 -1.55890705e-01  6.27064945e-01\n",
            "   5.45279652e-01 -2.42890692e-01]\n",
            " [ 1.43584970e+00  6.71584281e-01 -9.07117724e-01 -1.56692409e-01\n",
            "  -4.00110407e-01 -1.64828259e-01 -1.40987177e-01 -1.64877117e-01\n",
            "  -6.24890244e-01 -5.23851258e-01 -5.82051509e-01 -5.70536315e-01\n",
            "  -6.46613370e-01 -5.82048259e-01  3.71220721e-01 -8.92003499e-02\n",
            "  -3.20601978e-01 -1.03328687e+00 -4.85227013e-02 -4.08644653e-01\n",
            "   4.10778366e-01 -6.40796560e-01]\n",
            " [-1.52451168e+00 -1.07977346e+00 -6.31053866e-01 -7.84562930e-02\n",
            "   4.16156683e-01 -5.26251678e-02 -9.03331016e-02 -5.16381438e-02\n",
            "   3.75884006e-02 -1.71439979e-01  1.44565731e-01  5.00738283e-03\n",
            "  -4.96121614e-02  1.44260687e-01 -3.80628663e-01  5.45384566e-02\n",
            "   1.38658201e+00  1.12087712e+00  4.91536327e-01  2.83621044e-01\n",
            "  -9.46868610e-01  5.54519145e-01]\n",
            " [ 1.23761922e+00  2.95888297e-01 -5.91612964e-01 -2.94082662e-01\n",
            "  -6.72199437e-01 -1.43010991e-01 -3.80749802e-01 -1.44099324e-01\n",
            "  -5.13806951e-01 -4.32127775e-01 -5.06303766e-01 -4.72892350e-01\n",
            "  -5.19157474e-01 -5.06611880e-01 -3.83783906e-01  5.21643923e-02\n",
            "  -1.55114544e+00 -8.44865548e-02 -9.40564247e-01 -5.14154950e-01\n",
            "   1.37686127e+00 -9.95317721e-01]\n",
            " [ 2.16159933e+00  5.67864191e-01  2.56219930e+00 -8.37919081e-01\n",
            "  -9.71497369e-01 -7.44544230e-01 -7.48836085e-01 -7.44577548e-01\n",
            "  -8.58617536e-01 -8.32814572e-01 -8.14905683e-01 -7.79319753e-01\n",
            "  -8.34210792e-01 -8.15215252e-01 -5.17656368e-01  8.08411807e-01\n",
            "  -5.50290302e-01 -1.57665467e+00 -1.23164638e+00 -1.57435339e+00\n",
            "  -1.56698801e-01 -1.25321272e+00]\n",
            " [-1.38571051e+00 -9.92566629e-01 -5.10574936e-01 -8.22726889e-02\n",
            "   4.16156683e-01  9.70988289e-03 -3.63020875e-02  9.65634621e-03\n",
            "  -3.51957085e-01 -3.98334912e-01 -2.59422233e-01 -3.64134437e-01\n",
            "  -4.38049177e-01 -2.59105741e-01 -3.41188122e-01 -2.34449925e-01\n",
            "   5.39845893e-01  1.27570853e+00  5.73962113e-01 -9.23122088e-01\n",
            "   8.96966890e-02  6.04403514e-01]\n",
            " [-7.58702661e-01 -5.02318921e-01 -4.67562790e-01  6.21852358e-01\n",
            "   9.60334743e-01  7.63963996e-01  3.21653380e-01  7.62851350e-01\n",
            "  -1.38335367e-01 -1.56957324e-01 -1.38786938e-01 -2.37117897e-01\n",
            "  -2.14035784e-01 -1.39093319e-01  2.42757247e-01 -1.90575389e-02\n",
            "   1.29343016e+00 -1.72520611e+00  5.31555286e-01  6.43681110e-01\n",
            "   1.26118997e+00  4.43917638e-01]]\n"
          ]
        }
      ]
    },
    {
      "cell_type": "markdown",
      "source": [
        "Model Training"
      ],
      "metadata": {
        "id": "GEbRStzU3A8j"
      }
    },
    {
      "cell_type": "markdown",
      "source": [
        "Support Vector Machine Model"
      ],
      "metadata": {
        "id": "jSuOX-yV3EZm"
      }
    },
    {
      "cell_type": "code",
      "source": [
        "model = svm.SVC(kernel = 'linear')"
      ],
      "metadata": {
        "id": "YHW_J5UU3Aa8"
      },
      "execution_count": null,
      "outputs": []
    },
    {
      "cell_type": "code",
      "source": [
        "# training the SVM model with training data\n",
        "model.fit(X_train, Y_train)"
      ],
      "metadata": {
        "id": "p0to0lTY1WaN",
        "outputId": "4192b8f7-1a4b-4c43-bba5-de075e8d9b13",
        "colab": {
          "base_uri": "https://localhost:8080/"
        }
      },
      "execution_count": null,
      "outputs": [
        {
          "output_type": "execute_result",
          "data": {
            "text/plain": [
              "SVC(kernel='linear')"
            ]
          },
          "metadata": {},
          "execution_count": 26
        }
      ]
    },
    {
      "cell_type": "markdown",
      "source": [
        "Model Evaluation"
      ],
      "metadata": {
        "id": "FyeLFfEb7B9w"
      }
    },
    {
      "cell_type": "markdown",
      "source": [
        "Accuracy Score"
      ],
      "metadata": {
        "id": "qSP3KCcV7Fjx"
      }
    },
    {
      "cell_type": "code",
      "source": [
        "# accuracy score on training data\n",
        "X_train_prediction = model.predict(X_train)\n",
        "training_data_accuracy = accuracy_score(Y_train, X_train_prediction)"
      ],
      "metadata": {
        "id": "NgQZktiu6FEg"
      },
      "execution_count": null,
      "outputs": []
    },
    {
      "cell_type": "code",
      "source": [
        "print('Accuracy score of training data: ', training_data_accuracy)"
      ],
      "metadata": {
        "id": "n_GD7JkP6EzT",
        "outputId": "33b2fa99-0de1-4f42-dfcc-8589d94cdd1c",
        "colab": {
          "base_uri": "https://localhost:8080/"
        }
      },
      "execution_count": null,
      "outputs": [
        {
          "output_type": "stream",
          "name": "stdout",
          "text": [
            "Accuracy score of training data:  0.8846153846153846\n"
          ]
        }
      ]
    },
    {
      "cell_type": "code",
      "source": [
        "# accuracy score on testing data\n",
        "X_test_prediction = model.predict(X_test)\n",
        "test_data_accuracy = accuracy_score(Y_test, X_test_prediction)"
      ],
      "metadata": {
        "id": "U6ByR8pW6Eps"
      },
      "execution_count": null,
      "outputs": []
    },
    {
      "cell_type": "code",
      "source": [
        "print('Accuracy score of test data: ', test_data_accuracy)"
      ],
      "metadata": {
        "id": "GeTK6DI_9D6D",
        "outputId": "4ad45cf5-452f-424f-8707-d70875707d95",
        "colab": {
          "base_uri": "https://localhost:8080/"
        }
      },
      "execution_count": null,
      "outputs": [
        {
          "output_type": "stream",
          "name": "stdout",
          "text": [
            "Accuracy score of test data:  0.8717948717948718\n"
          ]
        }
      ]
    },
    {
      "cell_type": "markdown",
      "source": [
        "Accuracy, F1 Score, Precision, Recall"
      ],
      "metadata": {
        "id": "jEuQpO87o0XD"
      }
    },
    {
      "cell_type": "code",
      "source": [
        "X = parkinsons_data.drop('status', axis=1)\n",
        "y = parkinsons_data['status']"
      ],
      "metadata": {
        "id": "8xhk2HyrqPNk"
      },
      "execution_count": null,
      "outputs": []
    },
    {
      "cell_type": "code",
      "source": [
        "from sklearn.preprocessing import LabelEncoder\n",
        "\n",
        "# Create a LabelEncoder object\n",
        "le = LabelEncoder()\n",
        "\n",
        "# Encode categorical variables in the input data\n",
        "for col in X.columns:\n",
        "    if X[col].dtype == 'object':\n",
        "        X[col] = le.fit_transform(X[col])"
      ],
      "metadata": {
        "id": "FxBQ9lRWqPhr"
      },
      "execution_count": null,
      "outputs": []
    },
    {
      "cell_type": "code",
      "source": [
        "X = X.abs()"
      ],
      "metadata": {
        "id": "Z1NhpjGAqQLz"
      },
      "execution_count": null,
      "outputs": []
    },
    {
      "cell_type": "code",
      "source": [
        "# Split the data into training and testing sets\n",
        "X_train, X_test, y_train, y_test = train_test_split(X, y, test_size=0.2, random_state=42)\n",
        "\n",
        "# Train the SVM classifier\n",
        "clf = SVC(kernel='linear')\n",
        "clf.fit(X_train, y_train)"
      ],
      "metadata": {
        "colab": {
          "base_uri": "https://localhost:8080/",
          "height": 74
        },
        "id": "HdBfEzgYo0ts",
        "outputId": "4096d569-7485-409d-895f-42d01059b49a"
      },
      "execution_count": null,
      "outputs": [
        {
          "output_type": "execute_result",
          "data": {
            "text/plain": [
              "SVC(kernel='linear')"
            ],
            "text/html": [
              "<style>#sk-container-id-1 {color: black;background-color: white;}#sk-container-id-1 pre{padding: 0;}#sk-container-id-1 div.sk-toggleable {background-color: white;}#sk-container-id-1 label.sk-toggleable__label {cursor: pointer;display: block;width: 100%;margin-bottom: 0;padding: 0.3em;box-sizing: border-box;text-align: center;}#sk-container-id-1 label.sk-toggleable__label-arrow:before {content: \"▸\";float: left;margin-right: 0.25em;color: #696969;}#sk-container-id-1 label.sk-toggleable__label-arrow:hover:before {color: black;}#sk-container-id-1 div.sk-estimator:hover label.sk-toggleable__label-arrow:before {color: black;}#sk-container-id-1 div.sk-toggleable__content {max-height: 0;max-width: 0;overflow: hidden;text-align: left;background-color: #f0f8ff;}#sk-container-id-1 div.sk-toggleable__content pre {margin: 0.2em;color: black;border-radius: 0.25em;background-color: #f0f8ff;}#sk-container-id-1 input.sk-toggleable__control:checked~div.sk-toggleable__content {max-height: 200px;max-width: 100%;overflow: auto;}#sk-container-id-1 input.sk-toggleable__control:checked~label.sk-toggleable__label-arrow:before {content: \"▾\";}#sk-container-id-1 div.sk-estimator input.sk-toggleable__control:checked~label.sk-toggleable__label {background-color: #d4ebff;}#sk-container-id-1 div.sk-label input.sk-toggleable__control:checked~label.sk-toggleable__label {background-color: #d4ebff;}#sk-container-id-1 input.sk-hidden--visually {border: 0;clip: rect(1px 1px 1px 1px);clip: rect(1px, 1px, 1px, 1px);height: 1px;margin: -1px;overflow: hidden;padding: 0;position: absolute;width: 1px;}#sk-container-id-1 div.sk-estimator {font-family: monospace;background-color: #f0f8ff;border: 1px dotted black;border-radius: 0.25em;box-sizing: border-box;margin-bottom: 0.5em;}#sk-container-id-1 div.sk-estimator:hover {background-color: #d4ebff;}#sk-container-id-1 div.sk-parallel-item::after {content: \"\";width: 100%;border-bottom: 1px solid gray;flex-grow: 1;}#sk-container-id-1 div.sk-label:hover label.sk-toggleable__label {background-color: #d4ebff;}#sk-container-id-1 div.sk-serial::before {content: \"\";position: absolute;border-left: 1px solid gray;box-sizing: border-box;top: 0;bottom: 0;left: 50%;z-index: 0;}#sk-container-id-1 div.sk-serial {display: flex;flex-direction: column;align-items: center;background-color: white;padding-right: 0.2em;padding-left: 0.2em;position: relative;}#sk-container-id-1 div.sk-item {position: relative;z-index: 1;}#sk-container-id-1 div.sk-parallel {display: flex;align-items: stretch;justify-content: center;background-color: white;position: relative;}#sk-container-id-1 div.sk-item::before, #sk-container-id-1 div.sk-parallel-item::before {content: \"\";position: absolute;border-left: 1px solid gray;box-sizing: border-box;top: 0;bottom: 0;left: 50%;z-index: -1;}#sk-container-id-1 div.sk-parallel-item {display: flex;flex-direction: column;z-index: 1;position: relative;background-color: white;}#sk-container-id-1 div.sk-parallel-item:first-child::after {align-self: flex-end;width: 50%;}#sk-container-id-1 div.sk-parallel-item:last-child::after {align-self: flex-start;width: 50%;}#sk-container-id-1 div.sk-parallel-item:only-child::after {width: 0;}#sk-container-id-1 div.sk-dashed-wrapped {border: 1px dashed gray;margin: 0 0.4em 0.5em 0.4em;box-sizing: border-box;padding-bottom: 0.4em;background-color: white;}#sk-container-id-1 div.sk-label label {font-family: monospace;font-weight: bold;display: inline-block;line-height: 1.2em;}#sk-container-id-1 div.sk-label-container {text-align: center;}#sk-container-id-1 div.sk-container {/* jupyter's `normalize.less` sets `[hidden] { display: none; }` but bootstrap.min.css set `[hidden] { display: none !important; }` so we also need the `!important` here to be able to override the default hidden behavior on the sphinx rendered scikit-learn.org. See: https://github.com/scikit-learn/scikit-learn/issues/21755 */display: inline-block !important;position: relative;}#sk-container-id-1 div.sk-text-repr-fallback {display: none;}</style><div id=\"sk-container-id-1\" class=\"sk-top-container\"><div class=\"sk-text-repr-fallback\"><pre>SVC(kernel=&#x27;linear&#x27;)</pre><b>In a Jupyter environment, please rerun this cell to show the HTML representation or trust the notebook. <br />On GitHub, the HTML representation is unable to render, please try loading this page with nbviewer.org.</b></div><div class=\"sk-container\" hidden><div class=\"sk-item\"><div class=\"sk-estimator sk-toggleable\"><input class=\"sk-toggleable__control sk-hidden--visually\" id=\"sk-estimator-id-1\" type=\"checkbox\" checked><label for=\"sk-estimator-id-1\" class=\"sk-toggleable__label sk-toggleable__label-arrow\">SVC</label><div class=\"sk-toggleable__content\"><pre>SVC(kernel=&#x27;linear&#x27;)</pre></div></div></div></div></div>"
            ]
          },
          "metadata": {},
          "execution_count": 8
        }
      ]
    },
    {
      "cell_type": "code",
      "source": [
        "\n",
        "# Evaluate the performance of the classifier on the test set\n",
        "y_pred = clf.predict(X_test)\n",
        "f1 = f1_score(y_test, y_pred)\n",
        "accuracy = accuracy_score(y_test, y_pred)\n",
        "precision = precision_score(y_test, y_pred)\n",
        "recall = recall_score(y_test, y_pred)\n",
        "\n",
        "# Print the evaluation metrics\n",
        "print(f'F1 score: {f1:.4f}')\n",
        "print(f'Accuracy: {accuracy:.4f}')\n",
        "print(f'Precision: {precision:.4f}')\n",
        "print(f'Recall: {recall:.4f}')"
      ],
      "metadata": {
        "colab": {
          "base_uri": "https://localhost:8080/"
        },
        "id": "vIVLo1uUo05A",
        "outputId": "ddc9957d-8473-4da5-cf93-74f7617bb5bd"
      },
      "execution_count": null,
      "outputs": [
        {
          "output_type": "stream",
          "name": "stdout",
          "text": [
            "F1 score: 0.9394\n",
            "Accuracy: 0.8974\n",
            "Precision: 0.9118\n",
            "Recall: 0.9688\n"
          ]
        }
      ]
    },
    {
      "cell_type": "markdown",
      "source": [
        "Building a Predictive System"
      ],
      "metadata": {
        "id": "9q2U25LCUz7V"
      }
    },
    {
      "cell_type": "code",
      "source": [
        "input_data = (162.56800,198.34600,77.63000,0.00502,0.00003,0.00280,0.00253,0.00841,0.01791,0.16800,0.00793,0.01057,0.01799,0.02380,0.01170,25.67800,0.427785,0.723797,-6.635729,0.209866,1.957961,0.135242)\n",
        "\n",
        "# changing input data to numpy array\n",
        "input_data_as_numpy_array = np.asarray(input_data)\n",
        "\n",
        "# reshape the numpy array\n",
        "input_data_reshaped = input_data_as_numpy_array.reshape(1,-1)\n",
        "\n",
        "# standardising the data\n",
        "std_data = scaler.transform(input_data_reshaped)\n",
        "\n",
        "prediction = model.predict(std_data)\n",
        "print(prediction)\n",
        "\n",
        "if (prediction[0] == 0):\n",
        "  print(\"The Person does not have Parkinson's Disease\")\n",
        "else:\n",
        "  print(\"The Person has Parkinson's Disease\")\n",
        ""
      ],
      "metadata": {
        "id": "gGFdBuTZ9Dq4",
        "outputId": "51f9a1db-dfdb-4e16-f5e1-c02b56602aaa",
        "colab": {
          "base_uri": "https://localhost:8080/"
        }
      },
      "execution_count": null,
      "outputs": [
        {
          "output_type": "stream",
          "name": "stdout",
          "text": [
            "[1]\n",
            "The Person has Parkinson's Disease\n"
          ]
        },
        {
          "output_type": "stream",
          "name": "stderr",
          "text": [
            "/usr/local/lib/python3.8/dist-packages/sklearn/base.py:450: UserWarning: X does not have valid feature names, but StandardScaler was fitted with feature names\n",
            "  warnings.warn(\n"
          ]
        }
      ]
    }
  ]
}